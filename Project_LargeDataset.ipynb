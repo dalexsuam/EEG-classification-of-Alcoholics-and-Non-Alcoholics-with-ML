{
 "cells": [
  {
   "cell_type": "markdown",
   "metadata": {},
   "source": [
    "# UCI Machine Learning Repository - EEG Large_Database Dataset"
   ]
  },
  {
   "cell_type": "code",
   "execution_count": 24,
   "metadata": {},
   "outputs": [],
   "source": [
    "import matplotlib.pyplot as plt\n",
    "import pandas as pd\n",
    "import glob\n",
    "import os\n",
    "import mne\n",
    "import numpy as np\n",
    "import re\n",
    "import pywt\n",
    "import seaborn as sns"
   ]
  },
  {
   "cell_type": "markdown",
   "metadata": {},
   "source": [
    "# 0. Preprocesamiento"
   ]
  },
  {
   "cell_type": "code",
   "execution_count": 25,
   "metadata": {},
   "outputs": [
    {
     "data": {
      "text/plain": [
       "1200"
      ]
     },
     "execution_count": 25,
     "metadata": {},
     "output_type": "execute_result"
    }
   ],
   "source": [
    "##Se obtienen las direcciones de todos los archivos contenidos en la carpeta de EEG_largeDataset\n",
    "X = [os.path.join(r,file) for r,d,f in os.walk(\"D:\\GitHub_Datasets\\EEG_largeDataset\") \n",
    "     for file in f]\n",
    "#x_test = [os.path.join(r,file) for r,d,f in os.walk(\"D:\\EEG_largeDataset\\SMNI_CMI_TEST\") \n",
    " #    for file in f]\n",
    "#print('x_train_size: %i \\nx_test_size: '%len(x_train), len(x_test))\n",
    "#print(len(x_train))\n",
    "len(X)"
   ]
  },
  {
   "cell_type": "code",
   "execution_count": 26,
   "metadata": {},
   "outputs": [
    {
     "name": "stdout",
     "output_type": "stream",
     "text": [
      "1200\n",
      "1200\n"
     ]
    }
   ],
   "source": [
    "target_names = []\n",
    "target_status = []\n",
    "##Se hace un recorrido por todos las direcciones\n",
    "for names in range(0, len(X)):\n",
    "    arr_txt = X[names].split('\\\\') #Cada dirección se descompone de acuerdo al \\\\\n",
    "    ##Para la cual se obtiene el nombre de cada archivo de texto y se remueve la terminación de .txt\n",
    "    target_names.append(arr_txt[4].replace('.txt', '')) \n",
    "    ##Del nombre obtenido, se extrae la 4ta (0-3) letra que indica si la persona es alcoholica (a) o no (c)\n",
    "    target_status.append(arr_txt[4][3])\n",
    "print(len(target_names))\n",
    "print(len(target_status))"
   ]
  },
  {
   "cell_type": "code",
   "execution_count": 27,
   "metadata": {},
   "outputs": [
    {
     "name": "stdout",
     "output_type": "stream",
     "text": [
      "Lenght Trials 0\n",
      "Lenght Channels 16384\n"
     ]
    }
   ],
   "source": [
    "Channels = []\n",
    "Trials = []\n",
    "file = []\n",
    "##De una dirección, se abre un archivo, para extraer información estandar\n",
    "with open(X[0], 'r') as reader:\n",
    "    for line in reader.readlines(): #De un archivo se leen todas sus lineas\n",
    "        if not(line.startswith('#')): #Si la línea empieza por el carácter # se obvia (información innecesaria)\n",
    "            file.append(line)##Se almacena la información de la linea en file  \n",
    "    for line in range(0, len(file)):#Para cada componente de la lista file\n",
    "        separate_var = file[line].split()#Se descompone\n",
    "        Channels.append(separate_var[1])#Se toma el segundo componente (nombre del canal)\n",
    "        #Trials.append(separate_var[2])#Se toma el numero de la muestra (0-255)\n",
    "#Channels.append('target')\n",
    "print('Lenght Trials %i'%len(Trials))\n",
    "print('Lenght Channels %i'%len(Channels))"
   ]
  },
  {
   "cell_type": "code",
   "execution_count": 28,
   "metadata": {},
   "outputs": [
    {
     "data": {
      "text/plain": [
       "(16384, 1200)"
      ]
     },
     "execution_count": 28,
     "metadata": {},
     "output_type": "execute_result"
    }
   ],
   "source": [
    "datamV = np.zeros([len(Channels), len(target_names)])  #Se crea un arreglo de ceros para almacenar la información del EEG\n",
    "#datafull[:,0] = Trials\n",
    "datamV.shape\n",
    "#target_status = np.array(target_status)"
   ]
  },
  {
   "cell_type": "code",
   "execution_count": 6,
   "metadata": {},
   "outputs": [],
   "source": [
    "for docs in range (0, len(X)):#Se hace un recorrido por todas las direcciones, para abrir todos los archivos de texto\n",
    "    mV = []\n",
    "    file = []\n",
    "    with open(X[docs], 'r') as reader:#Se abre el archivo de texto\n",
    "            for line in reader.readlines():#Se leen todas sus lineas\n",
    "                if not(line.startswith('#')):#Se obvian las lineas que inicien con el caracter #\n",
    "                    file.append(line)#Aquellas lineas se almacenan en el arreglo file\n",
    "            for line in range(0, len(file)):#De ese arreglo, se recorren todos sus componentes\n",
    "                separate_var = file[line].split()#Cada componente se descompone\n",
    "                #Para extraer el 4to (0-3) componente que corresponde a la respuesta eléctrica en mV\n",
    "                mV.append(float(separate_var[3]))#Se almacenan todos los valores en el arreglo mV como flotante\n",
    "                \n",
    "            datamV[:, docs] = mV #Se almacenan todos los valores de mV en todas las filas de una columna\n",
    "    reader.close()#Se cierra el documento"
   ]
  },
  {
   "cell_type": "code",
   "execution_count": 7,
   "metadata": {},
   "outputs": [],
   "source": [
    "#datafull = np.c_[np.transpose(datafull), target_status]\n",
    "#datafull = np.transpose(datafull)\n",
    "#target_status"
   ]
  },
  {
   "cell_type": "code",
   "execution_count": 8,
   "metadata": {},
   "outputs": [
    {
     "name": "stdout",
     "output_type": "stream",
     "text": [
      "(16384, 1200)\n",
      "1200\n"
     ]
    }
   ],
   "source": [
    "print(datamV.shape)\n",
    "print(len(target_status))"
   ]
  },
  {
   "cell_type": "code",
   "execution_count": 9,
   "metadata": {},
   "outputs": [
    {
     "data": {
      "text/html": [
       "<div>\n",
       "<style scoped>\n",
       "    .dataframe tbody tr th:only-of-type {\n",
       "        vertical-align: middle;\n",
       "    }\n",
       "\n",
       "    .dataframe tbody tr th {\n",
       "        vertical-align: top;\n",
       "    }\n",
       "\n",
       "    .dataframe thead th {\n",
       "        text-align: right;\n",
       "    }\n",
       "</style>\n",
       "<table border=\"1\" class=\"dataframe\">\n",
       "  <thead>\n",
       "    <tr style=\"text-align: right;\">\n",
       "      <th></th>\n",
       "      <th>co2a0000364 (31)</th>\n",
       "      <th>co2a0000364 (32)</th>\n",
       "      <th>co2a0000364 (33)</th>\n",
       "      <th>co2a0000364 (34)</th>\n",
       "      <th>co2a0000364 (35)</th>\n",
       "      <th>co2a0000364 (36)</th>\n",
       "      <th>co2a0000364 (37)</th>\n",
       "      <th>co2a0000364 (38)</th>\n",
       "      <th>co2a0000364 (39)</th>\n",
       "      <th>co2a0000364 (40)</th>\n",
       "      <th>...</th>\n",
       "      <th>co2c0000347 (28)</th>\n",
       "      <th>co2c0000347 (29)</th>\n",
       "      <th>co2c0000347 (3)</th>\n",
       "      <th>co2c0000347 (30)</th>\n",
       "      <th>co2c0000347 (4)</th>\n",
       "      <th>co2c0000347 (5)</th>\n",
       "      <th>co2c0000347 (6)</th>\n",
       "      <th>co2c0000347 (7)</th>\n",
       "      <th>co2c0000347 (8)</th>\n",
       "      <th>co2c0000347 (9)</th>\n",
       "    </tr>\n",
       "  </thead>\n",
       "  <tbody>\n",
       "    <tr>\n",
       "      <th>FP1</th>\n",
       "      <td>3.459</td>\n",
       "      <td>-3.957</td>\n",
       "      <td>6.256</td>\n",
       "      <td>2.513</td>\n",
       "      <td>2.431</td>\n",
       "      <td>-2.787</td>\n",
       "      <td>4.333</td>\n",
       "      <td>1.740</td>\n",
       "      <td>3.367</td>\n",
       "      <td>2.797</td>\n",
       "      <td>...</td>\n",
       "      <td>-23.488</td>\n",
       "      <td>3.591</td>\n",
       "      <td>-3.479</td>\n",
       "      <td>1.373</td>\n",
       "      <td>0.488</td>\n",
       "      <td>0.834</td>\n",
       "      <td>-3.794</td>\n",
       "      <td>-1.282</td>\n",
       "      <td>16.235</td>\n",
       "      <td>-10.010</td>\n",
       "    </tr>\n",
       "    <tr>\n",
       "      <th>FP1</th>\n",
       "      <td>2.482</td>\n",
       "      <td>-2.981</td>\n",
       "      <td>6.256</td>\n",
       "      <td>0.559</td>\n",
       "      <td>5.361</td>\n",
       "      <td>-3.276</td>\n",
       "      <td>5.798</td>\n",
       "      <td>-0.214</td>\n",
       "      <td>1.902</td>\n",
       "      <td>2.797</td>\n",
       "      <td>...</td>\n",
       "      <td>-19.582</td>\n",
       "      <td>0.661</td>\n",
       "      <td>-5.920</td>\n",
       "      <td>-3.021</td>\n",
       "      <td>-1.465</td>\n",
       "      <td>0.834</td>\n",
       "      <td>5.971</td>\n",
       "      <td>-5.676</td>\n",
       "      <td>6.470</td>\n",
       "      <td>-9.521</td>\n",
       "    </tr>\n",
       "    <tr>\n",
       "      <th>FP1</th>\n",
       "      <td>1.506</td>\n",
       "      <td>0.437</td>\n",
       "      <td>5.768</td>\n",
       "      <td>-1.882</td>\n",
       "      <td>6.337</td>\n",
       "      <td>-4.252</td>\n",
       "      <td>6.287</td>\n",
       "      <td>-0.702</td>\n",
       "      <td>0.437</td>\n",
       "      <td>1.821</td>\n",
       "      <td>...</td>\n",
       "      <td>-16.164</td>\n",
       "      <td>-1.292</td>\n",
       "      <td>-8.362</td>\n",
       "      <td>-7.416</td>\n",
       "      <td>-1.465</td>\n",
       "      <td>1.322</td>\n",
       "      <td>9.389</td>\n",
       "      <td>-4.211</td>\n",
       "      <td>0.122</td>\n",
       "      <td>-3.662</td>\n",
       "    </tr>\n",
       "    <tr>\n",
       "      <th>FP1</th>\n",
       "      <td>1.506</td>\n",
       "      <td>3.367</td>\n",
       "      <td>4.791</td>\n",
       "      <td>-2.370</td>\n",
       "      <td>5.361</td>\n",
       "      <td>-5.229</td>\n",
       "      <td>5.310</td>\n",
       "      <td>0.275</td>\n",
       "      <td>-1.516</td>\n",
       "      <td>-0.621</td>\n",
       "      <td>...</td>\n",
       "      <td>-16.652</td>\n",
       "      <td>-2.268</td>\n",
       "      <td>-9.338</td>\n",
       "      <td>-9.369</td>\n",
       "      <td>0.488</td>\n",
       "      <td>1.811</td>\n",
       "      <td>5.971</td>\n",
       "      <td>3.113</td>\n",
       "      <td>1.587</td>\n",
       "      <td>3.174</td>\n",
       "    </tr>\n",
       "    <tr>\n",
       "      <th>FP1</th>\n",
       "      <td>3.459</td>\n",
       "      <td>4.344</td>\n",
       "      <td>3.815</td>\n",
       "      <td>-0.905</td>\n",
       "      <td>1.455</td>\n",
       "      <td>-6.205</td>\n",
       "      <td>4.333</td>\n",
       "      <td>2.716</td>\n",
       "      <td>-3.469</td>\n",
       "      <td>-3.062</td>\n",
       "      <td>...</td>\n",
       "      <td>-19.582</td>\n",
       "      <td>-2.268</td>\n",
       "      <td>-9.338</td>\n",
       "      <td>-8.881</td>\n",
       "      <td>3.418</td>\n",
       "      <td>2.299</td>\n",
       "      <td>-1.841</td>\n",
       "      <td>11.902</td>\n",
       "      <td>9.399</td>\n",
       "      <td>6.592</td>\n",
       "    </tr>\n",
       "    <tr>\n",
       "      <th>...</th>\n",
       "      <td>...</td>\n",
       "      <td>...</td>\n",
       "      <td>...</td>\n",
       "      <td>...</td>\n",
       "      <td>...</td>\n",
       "      <td>...</td>\n",
       "      <td>...</td>\n",
       "      <td>...</td>\n",
       "      <td>...</td>\n",
       "      <td>...</td>\n",
       "      <td>...</td>\n",
       "      <td>...</td>\n",
       "      <td>...</td>\n",
       "      <td>...</td>\n",
       "      <td>...</td>\n",
       "      <td>...</td>\n",
       "      <td>...</td>\n",
       "      <td>...</td>\n",
       "      <td>...</td>\n",
       "      <td>...</td>\n",
       "      <td>...</td>\n",
       "    </tr>\n",
       "    <tr>\n",
       "      <th>Y</th>\n",
       "      <td>-7.589</td>\n",
       "      <td>-29.439</td>\n",
       "      <td>-23.946</td>\n",
       "      <td>-11.587</td>\n",
       "      <td>-7.721</td>\n",
       "      <td>-14.119</td>\n",
       "      <td>-6.541</td>\n",
       "      <td>-11.831</td>\n",
       "      <td>-12.085</td>\n",
       "      <td>-26.164</td>\n",
       "      <td>...</td>\n",
       "      <td>-13.214</td>\n",
       "      <td>5.371</td>\n",
       "      <td>-4.649</td>\n",
       "      <td>18.545</td>\n",
       "      <td>-11.688</td>\n",
       "      <td>-4.079</td>\n",
       "      <td>-3.540</td>\n",
       "      <td>3.825</td>\n",
       "      <td>-1.811</td>\n",
       "      <td>-28.310</td>\n",
       "    </tr>\n",
       "    <tr>\n",
       "      <th>Y</th>\n",
       "      <td>-9.542</td>\n",
       "      <td>-25.533</td>\n",
       "      <td>-22.481</td>\n",
       "      <td>-15.493</td>\n",
       "      <td>-5.768</td>\n",
       "      <td>-13.631</td>\n",
       "      <td>-11.912</td>\n",
       "      <td>-10.854</td>\n",
       "      <td>-11.597</td>\n",
       "      <td>-22.257</td>\n",
       "      <td>...</td>\n",
       "      <td>-10.284</td>\n",
       "      <td>3.418</td>\n",
       "      <td>-6.114</td>\n",
       "      <td>16.103</td>\n",
       "      <td>-13.153</td>\n",
       "      <td>-0.173</td>\n",
       "      <td>-1.587</td>\n",
       "      <td>5.778</td>\n",
       "      <td>0.142</td>\n",
       "      <td>-23.916</td>\n",
       "    </tr>\n",
       "    <tr>\n",
       "      <th>Y</th>\n",
       "      <td>-12.960</td>\n",
       "      <td>-20.650</td>\n",
       "      <td>-20.528</td>\n",
       "      <td>-18.422</td>\n",
       "      <td>-6.744</td>\n",
       "      <td>-12.166</td>\n",
       "      <td>-16.307</td>\n",
       "      <td>-7.924</td>\n",
       "      <td>-12.573</td>\n",
       "      <td>-19.328</td>\n",
       "      <td>...</td>\n",
       "      <td>-4.913</td>\n",
       "      <td>-2.441</td>\n",
       "      <td>-5.137</td>\n",
       "      <td>17.080</td>\n",
       "      <td>-16.571</td>\n",
       "      <td>2.268</td>\n",
       "      <td>0.854</td>\n",
       "      <td>7.731</td>\n",
       "      <td>1.607</td>\n",
       "      <td>-20.498</td>\n",
       "    </tr>\n",
       "    <tr>\n",
       "      <th>Y</th>\n",
       "      <td>-16.866</td>\n",
       "      <td>-17.232</td>\n",
       "      <td>-18.575</td>\n",
       "      <td>-19.887</td>\n",
       "      <td>-12.115</td>\n",
       "      <td>-12.166</td>\n",
       "      <td>-17.771</td>\n",
       "      <td>-4.995</td>\n",
       "      <td>-14.526</td>\n",
       "      <td>-18.351</td>\n",
       "      <td>...</td>\n",
       "      <td>-0.519</td>\n",
       "      <td>-9.766</td>\n",
       "      <td>-3.672</td>\n",
       "      <td>18.545</td>\n",
       "      <td>-21.454</td>\n",
       "      <td>3.245</td>\n",
       "      <td>2.808</td>\n",
       "      <td>7.243</td>\n",
       "      <td>1.119</td>\n",
       "      <td>-20.498</td>\n",
       "    </tr>\n",
       "    <tr>\n",
       "      <th>Y</th>\n",
       "      <td>-20.284</td>\n",
       "      <td>-16.256</td>\n",
       "      <td>-18.087</td>\n",
       "      <td>-19.399</td>\n",
       "      <td>-19.440</td>\n",
       "      <td>-11.678</td>\n",
       "      <td>-14.842</td>\n",
       "      <td>-3.530</td>\n",
       "      <td>-16.968</td>\n",
       "      <td>-20.304</td>\n",
       "      <td>...</td>\n",
       "      <td>0.946</td>\n",
       "      <td>-14.160</td>\n",
       "      <td>-2.207</td>\n",
       "      <td>19.033</td>\n",
       "      <td>-24.872</td>\n",
       "      <td>2.757</td>\n",
       "      <td>4.272</td>\n",
       "      <td>3.337</td>\n",
       "      <td>-0.346</td>\n",
       "      <td>-24.892</td>\n",
       "    </tr>\n",
       "  </tbody>\n",
       "</table>\n",
       "<p>16384 rows × 1200 columns</p>\n",
       "</div>"
      ],
      "text/plain": [
       "     co2a0000364 (31)  co2a0000364 (32)  co2a0000364 (33)  co2a0000364 (34)  \\\n",
       "FP1             3.459            -3.957             6.256             2.513   \n",
       "FP1             2.482            -2.981             6.256             0.559   \n",
       "FP1             1.506             0.437             5.768            -1.882   \n",
       "FP1             1.506             3.367             4.791            -2.370   \n",
       "FP1             3.459             4.344             3.815            -0.905   \n",
       "..                ...               ...               ...               ...   \n",
       "Y              -7.589           -29.439           -23.946           -11.587   \n",
       "Y              -9.542           -25.533           -22.481           -15.493   \n",
       "Y             -12.960           -20.650           -20.528           -18.422   \n",
       "Y             -16.866           -17.232           -18.575           -19.887   \n",
       "Y             -20.284           -16.256           -18.087           -19.399   \n",
       "\n",
       "     co2a0000364 (35)  co2a0000364 (36)  co2a0000364 (37)  co2a0000364 (38)  \\\n",
       "FP1             2.431            -2.787             4.333             1.740   \n",
       "FP1             5.361            -3.276             5.798            -0.214   \n",
       "FP1             6.337            -4.252             6.287            -0.702   \n",
       "FP1             5.361            -5.229             5.310             0.275   \n",
       "FP1             1.455            -6.205             4.333             2.716   \n",
       "..                ...               ...               ...               ...   \n",
       "Y              -7.721           -14.119            -6.541           -11.831   \n",
       "Y              -5.768           -13.631           -11.912           -10.854   \n",
       "Y              -6.744           -12.166           -16.307            -7.924   \n",
       "Y             -12.115           -12.166           -17.771            -4.995   \n",
       "Y             -19.440           -11.678           -14.842            -3.530   \n",
       "\n",
       "     co2a0000364 (39)  co2a0000364 (40)  ...  co2c0000347 (28)  \\\n",
       "FP1             3.367             2.797  ...           -23.488   \n",
       "FP1             1.902             2.797  ...           -19.582   \n",
       "FP1             0.437             1.821  ...           -16.164   \n",
       "FP1            -1.516            -0.621  ...           -16.652   \n",
       "FP1            -3.469            -3.062  ...           -19.582   \n",
       "..                ...               ...  ...               ...   \n",
       "Y             -12.085           -26.164  ...           -13.214   \n",
       "Y             -11.597           -22.257  ...           -10.284   \n",
       "Y             -12.573           -19.328  ...            -4.913   \n",
       "Y             -14.526           -18.351  ...            -0.519   \n",
       "Y             -16.968           -20.304  ...             0.946   \n",
       "\n",
       "     co2c0000347 (29)  co2c0000347 (3)  co2c0000347 (30)  co2c0000347 (4)  \\\n",
       "FP1             3.591           -3.479             1.373            0.488   \n",
       "FP1             0.661           -5.920            -3.021           -1.465   \n",
       "FP1            -1.292           -8.362            -7.416           -1.465   \n",
       "FP1            -2.268           -9.338            -9.369            0.488   \n",
       "FP1            -2.268           -9.338            -8.881            3.418   \n",
       "..                ...              ...               ...              ...   \n",
       "Y               5.371           -4.649            18.545          -11.688   \n",
       "Y               3.418           -6.114            16.103          -13.153   \n",
       "Y              -2.441           -5.137            17.080          -16.571   \n",
       "Y              -9.766           -3.672            18.545          -21.454   \n",
       "Y             -14.160           -2.207            19.033          -24.872   \n",
       "\n",
       "     co2c0000347 (5)  co2c0000347 (6)  co2c0000347 (7)  co2c0000347 (8)  \\\n",
       "FP1            0.834           -3.794           -1.282           16.235   \n",
       "FP1            0.834            5.971           -5.676            6.470   \n",
       "FP1            1.322            9.389           -4.211            0.122   \n",
       "FP1            1.811            5.971            3.113            1.587   \n",
       "FP1            2.299           -1.841           11.902            9.399   \n",
       "..               ...              ...              ...              ...   \n",
       "Y             -4.079           -3.540            3.825           -1.811   \n",
       "Y             -0.173           -1.587            5.778            0.142   \n",
       "Y              2.268            0.854            7.731            1.607   \n",
       "Y              3.245            2.808            7.243            1.119   \n",
       "Y              2.757            4.272            3.337           -0.346   \n",
       "\n",
       "     co2c0000347 (9)  \n",
       "FP1          -10.010  \n",
       "FP1           -9.521  \n",
       "FP1           -3.662  \n",
       "FP1            3.174  \n",
       "FP1            6.592  \n",
       "..               ...  \n",
       "Y            -28.310  \n",
       "Y            -23.916  \n",
       "Y            -20.498  \n",
       "Y            -20.498  \n",
       "Y            -24.892  \n",
       "\n",
       "[16384 rows x 1200 columns]"
      ]
     },
     "execution_count": 9,
     "metadata": {},
     "output_type": "execute_result"
    }
   ],
   "source": [
    "#Se crea un dataframe con 256 datos * canal X examenes de EEG realizados, es decir (64*256, 20*60)\n",
    "df = pd.DataFrame(data = datamV, index = Channels, columns = target_names)\n",
    "df"
   ]
  },
  {
   "cell_type": "code",
   "execution_count": 10,
   "metadata": {},
   "outputs": [],
   "source": [
    "n_s = 256\n",
    "minvalues = np.zeros([len(X), int(len(Channels)/n_s)])\n",
    "maxvalues = np.zeros([len(X), int(len(Channels)/n_s)])\n",
    "stdvalues = np.zeros([len(X), int(len(Channels)/n_s)])\n",
    "skewvalues = np.zeros([len(X), int(len(Channels)/n_s)])\n",
    "kurtvalues = np.zeros([len(X), int(len(Channels)/n_s)])\n",
    "meanvalues = np.zeros([len(X), int(len(Channels)/n_s)])\n",
    "medianvalues = np.zeros([len(X), int(len(Channels)/n_s)])\n",
    "Chans = []\n",
    "for each_channel in range(0, int(len(Channels)/n_s)):\n",
    "    Chans.append(Channels[(each_channel*n_s)])\n",
    "    for each_exam in range(0, len(target_status)):\n",
    "        minvalues[each_exam, each_channel] = df[target_names[each_exam]][(each_channel*n_s):((each_channel+1)*n_s)].min()\n",
    "        maxvalues[each_exam, each_channel] = df[target_names[each_exam]][(each_channel*n_s):((each_channel+1)*n_s)].max()\n",
    "        stdvalues[each_exam, each_channel] = df[target_names[each_exam]][(each_channel*n_s):((each_channel+1)*n_s)].std()\n",
    "        skewvalues[each_exam, each_channel] = df[target_names[each_exam]][(each_channel*n_s):((each_channel+1)*n_s)].skew()\n",
    "        kurtvalues[each_exam, each_channel] = df[target_names[each_exam]][(each_channel*n_s):((each_channel+1)*n_s)].kurt()\n",
    "        meanvalues[each_exam, each_channel] = df[target_names[each_exam]][(each_channel*n_s):((each_channel+1)*n_s)].mean()\n",
    "        medianvalues[each_exam, each_channel] = df[target_names[each_exam]][(each_channel*n_s):((each_channel+1)*n_s)].median()\n",
    "    \n",
    "rangevalues = np.around((maxvalues - minvalues), decimals = 3)\n",
    "Chans.append('target')"
   ]
  },
  {
   "cell_type": "code",
   "execution_count": 11,
   "metadata": {},
   "outputs": [
    {
     "data": {
      "text/html": [
       "<div>\n",
       "<style scoped>\n",
       "    .dataframe tbody tr th:only-of-type {\n",
       "        vertical-align: middle;\n",
       "    }\n",
       "\n",
       "    .dataframe tbody tr th {\n",
       "        vertical-align: top;\n",
       "    }\n",
       "\n",
       "    .dataframe thead th {\n",
       "        text-align: right;\n",
       "    }\n",
       "</style>\n",
       "<table border=\"1\" class=\"dataframe\">\n",
       "  <thead>\n",
       "    <tr style=\"text-align: right;\">\n",
       "      <th></th>\n",
       "      <th>FP1</th>\n",
       "      <th>FP2</th>\n",
       "      <th>F7</th>\n",
       "      <th>F8</th>\n",
       "      <th>AF1</th>\n",
       "      <th>AF2</th>\n",
       "      <th>FZ</th>\n",
       "      <th>F4</th>\n",
       "      <th>F3</th>\n",
       "      <th>FC6</th>\n",
       "      <th>...</th>\n",
       "      <th>PO8</th>\n",
       "      <th>FCZ</th>\n",
       "      <th>POZ</th>\n",
       "      <th>OZ</th>\n",
       "      <th>P2</th>\n",
       "      <th>P1</th>\n",
       "      <th>CPZ</th>\n",
       "      <th>nd</th>\n",
       "      <th>Y</th>\n",
       "      <th>target</th>\n",
       "    </tr>\n",
       "  </thead>\n",
       "  <tbody>\n",
       "    <tr>\n",
       "      <th>co2a0000364 (31)</th>\n",
       "      <td>67.424</td>\n",
       "      <td>63.293</td>\n",
       "      <td>27.72</td>\n",
       "      <td>21.881</td>\n",
       "      <td>42.114</td>\n",
       "      <td>34.261</td>\n",
       "      <td>23.376</td>\n",
       "      <td>20.559</td>\n",
       "      <td>22.512</td>\n",
       "      <td>3.815</td>\n",
       "      <td>...</td>\n",
       "      <td>12.207</td>\n",
       "      <td>9.735</td>\n",
       "      <td>3.591</td>\n",
       "      <td>11.648</td>\n",
       "      <td>0.132</td>\n",
       "      <td>1.424</td>\n",
       "      <td>0.142</td>\n",
       "      <td>66.477</td>\n",
       "      <td>6.083</td>\n",
       "      <td>a</td>\n",
       "    </tr>\n",
       "    <tr>\n",
       "      <th>co2a0000364 (32)</th>\n",
       "      <td>41.941</td>\n",
       "      <td>41.3</td>\n",
       "      <td>13.367</td>\n",
       "      <td>23.285</td>\n",
       "      <td>24.75</td>\n",
       "      <td>23.855</td>\n",
       "      <td>13.062</td>\n",
       "      <td>12.075</td>\n",
       "      <td>11.688</td>\n",
       "      <td>6.307</td>\n",
       "      <td>...</td>\n",
       "      <td>19.847</td>\n",
       "      <td>5.198</td>\n",
       "      <td>12.136</td>\n",
       "      <td>18.911</td>\n",
       "      <td>6.663</td>\n",
       "      <td>6.378</td>\n",
       "      <td>3.845</td>\n",
       "      <td>41.372</td>\n",
       "      <td>2.299</td>\n",
       "      <td>a</td>\n",
       "    </tr>\n",
       "    <tr>\n",
       "      <th>co2a0000364 (33)</th>\n",
       "      <td>45.319</td>\n",
       "      <td>47.099</td>\n",
       "      <td>16.215</td>\n",
       "      <td>25.726</td>\n",
       "      <td>23.173</td>\n",
       "      <td>22.99</td>\n",
       "      <td>12.39</td>\n",
       "      <td>11.678</td>\n",
       "      <td>11.159</td>\n",
       "      <td>4.944</td>\n",
       "      <td>...</td>\n",
       "      <td>11.556</td>\n",
       "      <td>5.931</td>\n",
       "      <td>5.544</td>\n",
       "      <td>9.084</td>\n",
       "      <td>4.985</td>\n",
       "      <td>5.839</td>\n",
       "      <td>5.137</td>\n",
       "      <td>43.976</td>\n",
       "      <td>6.327</td>\n",
       "      <td>a</td>\n",
       "    </tr>\n",
       "    <tr>\n",
       "      <th>co2a0000364 (34)</th>\n",
       "      <td>48.411</td>\n",
       "      <td>47.557</td>\n",
       "      <td>9.969</td>\n",
       "      <td>22.247</td>\n",
       "      <td>24.76</td>\n",
       "      <td>22.176</td>\n",
       "      <td>12.095</td>\n",
       "      <td>12.543</td>\n",
       "      <td>11.434</td>\n",
       "      <td>3.052</td>\n",
       "      <td>...</td>\n",
       "      <td>9.186</td>\n",
       "      <td>5.798</td>\n",
       "      <td>9.247</td>\n",
       "      <td>7.365</td>\n",
       "      <td>5.849</td>\n",
       "      <td>6.012</td>\n",
       "      <td>2.299</td>\n",
       "      <td>46.855</td>\n",
       "      <td>4.038</td>\n",
       "      <td>a</td>\n",
       "    </tr>\n",
       "    <tr>\n",
       "      <th>co2a0000364 (35)</th>\n",
       "      <td>58.584</td>\n",
       "      <td>67.678</td>\n",
       "      <td>24.923</td>\n",
       "      <td>29.256</td>\n",
       "      <td>36.051</td>\n",
       "      <td>37.567</td>\n",
       "      <td>19.236</td>\n",
       "      <td>21.708</td>\n",
       "      <td>16.612</td>\n",
       "      <td>4.466</td>\n",
       "      <td>...</td>\n",
       "      <td>12.421</td>\n",
       "      <td>6.348</td>\n",
       "      <td>5.768</td>\n",
       "      <td>10.763</td>\n",
       "      <td>2.757</td>\n",
       "      <td>4.14</td>\n",
       "      <td>1.719</td>\n",
       "      <td>57.78</td>\n",
       "      <td>10.345</td>\n",
       "      <td>a</td>\n",
       "    </tr>\n",
       "    <tr>\n",
       "      <th>...</th>\n",
       "      <td>...</td>\n",
       "      <td>...</td>\n",
       "      <td>...</td>\n",
       "      <td>...</td>\n",
       "      <td>...</td>\n",
       "      <td>...</td>\n",
       "      <td>...</td>\n",
       "      <td>...</td>\n",
       "      <td>...</td>\n",
       "      <td>...</td>\n",
       "      <td>...</td>\n",
       "      <td>...</td>\n",
       "      <td>...</td>\n",
       "      <td>...</td>\n",
       "      <td>...</td>\n",
       "      <td>...</td>\n",
       "      <td>...</td>\n",
       "      <td>...</td>\n",
       "      <td>...</td>\n",
       "      <td>...</td>\n",
       "      <td>...</td>\n",
       "    </tr>\n",
       "    <tr>\n",
       "      <th>co2c0000347 (5)</th>\n",
       "      <td>118.51</td>\n",
       "      <td>96.802</td>\n",
       "      <td>49.306</td>\n",
       "      <td>48.848</td>\n",
       "      <td>64.26</td>\n",
       "      <td>57.17</td>\n",
       "      <td>32.725</td>\n",
       "      <td>36.489</td>\n",
       "      <td>38.9</td>\n",
       "      <td>27.018</td>\n",
       "      <td>...</td>\n",
       "      <td>23.56</td>\n",
       "      <td>10.966</td>\n",
       "      <td>19.175</td>\n",
       "      <td>20.315</td>\n",
       "      <td>18.84</td>\n",
       "      <td>17.487</td>\n",
       "      <td>10.59</td>\n",
       "      <td>22.146</td>\n",
       "      <td>34.007</td>\n",
       "      <td>c</td>\n",
       "    </tr>\n",
       "    <tr>\n",
       "      <th>co2c0000347 (6)</th>\n",
       "      <td>135.854</td>\n",
       "      <td>121.134</td>\n",
       "      <td>48.95</td>\n",
       "      <td>65.806</td>\n",
       "      <td>74.748</td>\n",
       "      <td>69.041</td>\n",
       "      <td>45.349</td>\n",
       "      <td>50.924</td>\n",
       "      <td>44.749</td>\n",
       "      <td>25.706</td>\n",
       "      <td>...</td>\n",
       "      <td>3.469</td>\n",
       "      <td>26.418</td>\n",
       "      <td>3.855</td>\n",
       "      <td>3.347</td>\n",
       "      <td>2.716</td>\n",
       "      <td>4.74</td>\n",
       "      <td>1.984</td>\n",
       "      <td>4.781</td>\n",
       "      <td>13.55</td>\n",
       "      <td>c</td>\n",
       "    </tr>\n",
       "    <tr>\n",
       "      <th>co2c0000347 (7)</th>\n",
       "      <td>24.597</td>\n",
       "      <td>18.402</td>\n",
       "      <td>17.497</td>\n",
       "      <td>16.663</td>\n",
       "      <td>19.033</td>\n",
       "      <td>19.389</td>\n",
       "      <td>13.845</td>\n",
       "      <td>14.13</td>\n",
       "      <td>12.187</td>\n",
       "      <td>10.366</td>\n",
       "      <td>...</td>\n",
       "      <td>19.897</td>\n",
       "      <td>9.542</td>\n",
       "      <td>14.801</td>\n",
       "      <td>14.893</td>\n",
       "      <td>13.916</td>\n",
       "      <td>17.171</td>\n",
       "      <td>10.539</td>\n",
       "      <td>16.429</td>\n",
       "      <td>18.473</td>\n",
       "      <td>c</td>\n",
       "    </tr>\n",
       "    <tr>\n",
       "      <th>co2c0000347 (8)</th>\n",
       "      <td>35.278</td>\n",
       "      <td>34.149</td>\n",
       "      <td>36.784</td>\n",
       "      <td>20.365</td>\n",
       "      <td>29.104</td>\n",
       "      <td>25.004</td>\n",
       "      <td>13.489</td>\n",
       "      <td>14.811</td>\n",
       "      <td>22.319</td>\n",
       "      <td>11.648</td>\n",
       "      <td>...</td>\n",
       "      <td>22.166</td>\n",
       "      <td>6.449</td>\n",
       "      <td>20.203</td>\n",
       "      <td>18.178</td>\n",
       "      <td>12.583</td>\n",
       "      <td>15.452</td>\n",
       "      <td>8.586</td>\n",
       "      <td>17.405</td>\n",
       "      <td>39.693</td>\n",
       "      <td>c</td>\n",
       "    </tr>\n",
       "    <tr>\n",
       "      <th>co2c0000347 (9)</th>\n",
       "      <td>16.357</td>\n",
       "      <td>7.202</td>\n",
       "      <td>10.691</td>\n",
       "      <td>8.036</td>\n",
       "      <td>8.911</td>\n",
       "      <td>4.232</td>\n",
       "      <td>7.1</td>\n",
       "      <td>6.632</td>\n",
       "      <td>9.674</td>\n",
       "      <td>7.802</td>\n",
       "      <td>...</td>\n",
       "      <td>5.961</td>\n",
       "      <td>6.134</td>\n",
       "      <td>6.47</td>\n",
       "      <td>6.297</td>\n",
       "      <td>7.731</td>\n",
       "      <td>8.341</td>\n",
       "      <td>6.215</td>\n",
       "      <td>5.056</td>\n",
       "      <td>18.077</td>\n",
       "      <td>c</td>\n",
       "    </tr>\n",
       "  </tbody>\n",
       "</table>\n",
       "<p>1200 rows × 65 columns</p>\n",
       "</div>"
      ],
      "text/plain": [
       "                      FP1      FP2      F7      F8     AF1     AF2      FZ  \\\n",
       "co2a0000364 (31)   67.424   63.293   27.72  21.881  42.114  34.261  23.376   \n",
       "co2a0000364 (32)   41.941     41.3  13.367  23.285   24.75  23.855  13.062   \n",
       "co2a0000364 (33)   45.319   47.099  16.215  25.726  23.173   22.99   12.39   \n",
       "co2a0000364 (34)   48.411   47.557   9.969  22.247   24.76  22.176  12.095   \n",
       "co2a0000364 (35)   58.584   67.678  24.923  29.256  36.051  37.567  19.236   \n",
       "...                   ...      ...     ...     ...     ...     ...     ...   \n",
       "co2c0000347 (5)    118.51   96.802  49.306  48.848   64.26   57.17  32.725   \n",
       "co2c0000347 (6)   135.854  121.134   48.95  65.806  74.748  69.041  45.349   \n",
       "co2c0000347 (7)    24.597   18.402  17.497  16.663  19.033  19.389  13.845   \n",
       "co2c0000347 (8)    35.278   34.149  36.784  20.365  29.104  25.004  13.489   \n",
       "co2c0000347 (9)    16.357    7.202  10.691   8.036   8.911   4.232     7.1   \n",
       "\n",
       "                      F4      F3     FC6  ...     PO8     FCZ     POZ      OZ  \\\n",
       "co2a0000364 (31)  20.559  22.512   3.815  ...  12.207   9.735   3.591  11.648   \n",
       "co2a0000364 (32)  12.075  11.688   6.307  ...  19.847   5.198  12.136  18.911   \n",
       "co2a0000364 (33)  11.678  11.159   4.944  ...  11.556   5.931   5.544   9.084   \n",
       "co2a0000364 (34)  12.543  11.434   3.052  ...   9.186   5.798   9.247   7.365   \n",
       "co2a0000364 (35)  21.708  16.612   4.466  ...  12.421   6.348   5.768  10.763   \n",
       "...                  ...     ...     ...  ...     ...     ...     ...     ...   \n",
       "co2c0000347 (5)   36.489    38.9  27.018  ...   23.56  10.966  19.175  20.315   \n",
       "co2c0000347 (6)   50.924  44.749  25.706  ...   3.469  26.418   3.855   3.347   \n",
       "co2c0000347 (7)    14.13  12.187  10.366  ...  19.897   9.542  14.801  14.893   \n",
       "co2c0000347 (8)   14.811  22.319  11.648  ...  22.166   6.449  20.203  18.178   \n",
       "co2c0000347 (9)    6.632   9.674   7.802  ...   5.961   6.134    6.47   6.297   \n",
       "\n",
       "                      P2      P1     CPZ      nd       Y target  \n",
       "co2a0000364 (31)   0.132   1.424   0.142  66.477   6.083      a  \n",
       "co2a0000364 (32)   6.663   6.378   3.845  41.372   2.299      a  \n",
       "co2a0000364 (33)   4.985   5.839   5.137  43.976   6.327      a  \n",
       "co2a0000364 (34)   5.849   6.012   2.299  46.855   4.038      a  \n",
       "co2a0000364 (35)   2.757    4.14   1.719   57.78  10.345      a  \n",
       "...                  ...     ...     ...     ...     ...    ...  \n",
       "co2c0000347 (5)    18.84  17.487   10.59  22.146  34.007      c  \n",
       "co2c0000347 (6)    2.716    4.74   1.984   4.781   13.55      c  \n",
       "co2c0000347 (7)   13.916  17.171  10.539  16.429  18.473      c  \n",
       "co2c0000347 (8)   12.583  15.452   8.586  17.405  39.693      c  \n",
       "co2c0000347 (9)    7.731   8.341   6.215   5.056  18.077      c  \n",
       "\n",
       "[1200 rows x 65 columns]"
      ]
     },
     "execution_count": 11,
     "metadata": {},
     "output_type": "execute_result"
    }
   ],
   "source": [
    "dfmax = pd.DataFrame(data = np.c_[maxvalues, target_status], index = target_names, columns = Chans)\n",
    "dfrange = pd.DataFrame(data = np.c_[rangevalues, target_status], index = target_names, columns = Chans)\n",
    "dfstd = pd.DataFrame(data = np.c_[stdvalues, target_status], index = target_names, columns = Chans)\n",
    "dfskew = pd.DataFrame(data = np.c_[skewvalues, target_status], index = target_names, columns = Chans)\n",
    "dfkurt = pd.DataFrame(data = np.c_[kurtvalues, target_status], index = target_names, columns = Chans)\n",
    "dfmin = pd.DataFrame(data = np.c_[minvalues, target_status], index = target_names, columns = Chans)\n",
    "dfmean = pd.DataFrame(data = np.c_[meanvalues, target_status], index = target_names, columns = Chans)\n",
    "dfmedian = pd.DataFrame(data = np.c_[medianvalues, target_status], index = target_names, columns = Chans)"
   ]
  },
  {
   "cell_type": "markdown",
   "metadata": {},
   "source": [
    "# 1. Característica Principal : Valores Máximo "
   ]
  },
  {
   "cell_type": "code",
   "execution_count": 12,
   "metadata": {},
   "outputs": [
    {
     "name": "stdout",
     "output_type": "stream",
     "text": [
      "c    600\n",
      "a    600\n",
      "Name: target, dtype: int64\n"
     ]
    },
    {
     "data": {
      "text/plain": [
       "<AxesSubplot:xlabel='target', ylabel='count'>"
      ]
     },
     "execution_count": 12,
     "metadata": {},
     "output_type": "execute_result"
    },
    {
     "data": {
      "image/png": "[encoded data removed]",
      "text/plain": [
       "<Figure size 432x288 with 1 Axes>"
      ]
     },
     "metadata": {
      "needs_background": "light"
     },
     "output_type": "display_data"
    }
   ],
   "source": [
    "print(dfmax['target'].value_counts())\n",
    "sns.countplot(data = dfmax, x = dfmax['target'])"
   ]
  },
  {
   "cell_type": "code",
   "execution_count": 13,
   "metadata": {},
   "outputs": [
    {
     "data": {
      "text/plain": [
       "<AxesSubplot:xlabel='target', ylabel='count'>"
      ]
     },
     "execution_count": 13,
     "metadata": {},
     "output_type": "execute_result"
    },
    {
     "data": {
      "image/png": "[encoded data removed]",
      "text/plain": [
       "<Figure size 432x288 with 1 Axes>"
      ]
     },
     "metadata": {
      "needs_background": "light"
     },
     "output_type": "display_data"
    }
   ],
   "source": [
    "#Label encoding, convierte los valores de 'c' y 'a' en 1 y 0\n",
    "from sklearn.preprocessing import LabelEncoder\n",
    "\n",
    "Label_e = LabelEncoder()\n",
    "dfmax.iloc[:, 64] = Label_e.fit_transform(dfmax.iloc[:,64].values)\n",
    " \n",
    "sns.countplot(data = dfmax, x = dfmax['target'])"
   ]
  },
  {
   "cell_type": "markdown",
   "metadata": {},
   "source": [
    "## PCA"
   ]
  },
  {
   "cell_type": "code",
   "execution_count": 14,
   "metadata": {},
   "outputs": [],
   "source": [
    "X_1 = dfmax.drop('target', axis = 1)\n",
    "y_1 = dfmax['target']"
   ]
  },
  {
   "cell_type": "code",
   "execution_count": 15,
   "metadata": {},
   "outputs": [],
   "source": [
    "from sklearn.preprocessing import StandardScaler\n",
    "\n",
    "scaler = StandardScaler()\n",
    "scaler.fit(X_1)\n",
    "X_1sc = scaler.transform(X_1)"
   ]
  },
  {
   "cell_type": "code",
   "execution_count": 29,
   "metadata": {},
   "outputs": [
    {
     "data": {
      "text/plain": [
       "<function matplotlib.pyplot.show(close=None, block=None)>"
      ]
     },
     "execution_count": 29,
     "metadata": {},
     "output_type": "execute_result"
    },
    {
     "data": {
      "image/png": "[encoded data removed]",
      "text/plain": [
       "<Figure size 432x288 with 1 Axes>"
      ]
     },
     "metadata": {
      "needs_background": "light"
     },
     "output_type": "display_data"
    }
   ],
   "source": [
    "cov_mat = np.cov(X_1sc.T)\n",
    "eigen_vals, eigen_vecs = np.linalg.eig(cov_mat)\n",
    "tot = sum(eigen_vals)\n",
    "var_exp = [(i/tot) for i in sorted(eigen_vals, reverse = True)]\n",
    "cum_var_exp = np.cumsum(var_exp)\n",
    "plt.bar(range(1, 65), var_exp, alpha = 0.5, align = 'center', label = 'explained variance')\n",
    "plt.step(range(1, 65), cum_var_exp, where = 'mid', label = 'cumulative explained variance')\n",
    "plt.axhline(y = 0.98, color = 'r', linestyle = '--', linewidth = 1)\n",
    "plt.ylabel('explained variance')\n",
    "plt.xlabel('Principal component')\n",
    "plt.legend(loc = 'best')\n",
    "plt.show"
   ]
  },
  {
   "cell_type": "code",
   "execution_count": 30,
   "metadata": {},
   "outputs": [
    {
     "data": {
      "text/plain": [
       "(1200, 35)"
      ]
     },
     "execution_count": 30,
     "metadata": {},
     "output_type": "execute_result"
    }
   ],
   "source": [
    "from sklearn.decomposition import PCA\n",
    "pca = PCA(n_components = 35)\n",
    "pca.fit(X_1)\n",
    "X_1pca = pca.transform(X_1)\n",
    "X_1pca.shape"
   ]
  },
  {
   "cell_type": "markdown",
   "metadata": {},
   "source": [
    "## GridSearchCV"
   ]
  },
  {
   "cell_type": "code",
   "execution_count": 169,
   "metadata": {},
   "outputs": [],
   "source": [
    "from sklearn.pipeline import Pipeline\n",
    "from sklearn.neural_network import MLPClassifier\n",
    "from sklearn.model_selection import GridSearchCV"
   ]
  },
  {
   "cell_type": "code",
   "execution_count": 170,
   "metadata": {},
   "outputs": [],
   "source": [
    "#Pipeline para el Clasificador con ANN\n",
    "pipe_mlp = Pipeline([('scl', StandardScaler()),\n",
    "                   ('clf', MLPClassifier(random_state = 1))])\n",
    "\n",
    "#Rango de variables para alpha, y la razón de aprendizaje\n",
    "param_range = [0.00001, 0.0001, 0.001, 0.01, 0.1]\n",
    "#Lista de funciones de activación\n",
    "param_activation = ['identity', 'tanh', 'logistic', 'relu']\n",
    "#Lista de capas ocultas (entre 5 a 20 para no saturar el GridSearchCV haciendo el estudio con muchas capas ocultas)\n",
    "param_hidden_layer_sizes = list(range(5, 20))\n",
    "\n",
    "#Se hace la grilla del MPLClassifier con los rangos de parametros establecidos anteriormente\n",
    "param_grid = [{'clf__hidden_layer_sizes': param_hidden_layer_sizes,\n",
    "              'clf__activation': param_activation, \n",
    "              'clf__alpha': param_range,\n",
    "              'clf__solver': ['adam'],\n",
    "              'clf__max_iter': [5000]},\n",
    "              {'clf__hidden_layer_sizes': param_hidden_layer_sizes,\n",
    "              'clf__activation': param_activation, \n",
    "              'clf__alpha': param_range,\n",
    "              'clf__solver': ['lbfgs'],\n",
    "              'clf__max_iter': [5000]},\n",
    "              {'clf__hidden_layer_sizes': param_hidden_layer_sizes,\n",
    "              'clf__activation': param_activation, \n",
    "              'clf__alpha': param_range,\n",
    "              'clf__solver': ['sgd'],\n",
    "              'clf__learning_rate_init': param_range,\n",
    "              'clf__max_iter': [5000]}]"
   ]
  },
  {
   "cell_type": "code",
   "execution_count": 171,
   "metadata": {},
   "outputs": [],
   "source": [
    "#Se realiza la busqueda para la mejor combinación de parametros de acuerdo a una validación cruzada de 5, teniendo\n",
    "#como métrica la exactitud de la clasificación\n",
    "gs = GridSearchCV(estimator = pipe_mlp, \n",
    "                  param_grid = param_grid,  \n",
    "                  scoring = 'accuracy', \n",
    "                  cv = 5,\n",
    "                  n_jobs = -1)"
   ]
  },
  {
   "cell_type": "code",
   "execution_count": 71,
   "metadata": {},
   "outputs": [
    {
     "name": "stdout",
     "output_type": "stream",
     "text": [
      "0.8416666666666666\n",
      "{'clf__activation': 'relu', 'clf__alpha': 0.1, 'clf__hidden_layer_sizes': 17, 'clf__max_iter': 5000, 'clf__solver': 'lbfgs'}\n"
     ]
    }
   ],
   "source": [
    "gs = gs.fit(X_1pca, y_1)\n",
    "print(gs.best_score_)\n",
    "print(gs.best_params_)"
   ]
  },
  {
   "cell_type": "code",
   "execution_count": 172,
   "metadata": {},
   "outputs": [],
   "source": [
    "from sklearn.svm import SVC\n",
    "#Se realiza un pipeline para el escalamiento de los datos y el SVC, \n",
    "pipe_svm = Pipeline([('scl', StandardScaler()),\n",
    "                   ('clf1', SVC(random_state = 1))])\n",
    "#Rango de valores que podría tomar el indice de regularización C\n",
    "param_range1 = [0.0001, 0.001, 0.01, 0.1, 1.0, 10.0, 100.0, 1000.0]\n",
    "#Se crea la grilla para determinar los mejores parametros para la clasificacion usando SVM con kernel lineal\n",
    "param_grid1 = [{'clf1__C': param_range1, \n",
    "                'clf1__kernel': ['linear']}]"
   ]
  },
  {
   "cell_type": "code",
   "execution_count": 173,
   "metadata": {},
   "outputs": [],
   "source": [
    "#Se realiza la busqueda de parametros con el GridSearchCV teniendo en cuenta la exactitud con un cv = 5\n",
    "gs1 = GridSearchCV(estimator = pipe_svm, \n",
    "                  param_grid = param_grid1, \n",
    "                  scoring = 'accuracy', \n",
    "                  cv = 5,\n",
    "                  n_jobs = -1)"
   ]
  },
  {
   "cell_type": "code",
   "execution_count": 23,
   "metadata": {},
   "outputs": [
    {
     "name": "stdout",
     "output_type": "stream",
     "text": [
      "0.7116666666666667\n",
      "{'clf1__C': 100.0, 'clf1__kernel': 'linear'}\n"
     ]
    }
   ],
   "source": [
    "gs1 = gs1.fit(X_1pca, y_1)\n",
    "print(gs1.best_score_)\n",
    "print(gs1.best_params_)"
   ]
  },
  {
   "cell_type": "code",
   "execution_count": 182,
   "metadata": {},
   "outputs": [],
   "source": [
    "gamma_range = [0.00001, 0.0001, 0.001, 0.01, 0.1, 'auto', 'escale']\n",
    "param_grid2 = [{'clf1__C': param_range1, \n",
    "                'clf1__kernel': ['rbf'],\n",
    "                'clf1__gamma': gamma_range},\n",
    "               \n",
    "               {'clf1__C': param_range1, \n",
    "                'clf1__kernel': ['poly'],\n",
    "                'clf1__gamma': gamma_range},\n",
    "               \n",
    "               {'clf1__C': param_range1, \n",
    "                'clf1__kernel': ['sigmoid'],\n",
    "                'clf1__gamma': gamma_range}]"
   ]
  },
  {
   "cell_type": "code",
   "execution_count": 183,
   "metadata": {},
   "outputs": [],
   "source": [
    "gs2 = GridSearchCV(estimator = pipe_svm, \n",
    "                  param_grid = param_grid2, \n",
    "                  scoring = 'accuracy', \n",
    "                  cv = 5,\n",
    "                  n_jobs = -1)\n"
   ]
  },
  {
   "cell_type": "code",
   "execution_count": 26,
   "metadata": {},
   "outputs": [
    {
     "name": "stdout",
     "output_type": "stream",
     "text": [
      "0.8341666666666667\n",
      "{'clf1__C': 10.0, 'clf1__gamma': 'auto', 'clf1__kernel': 'rbf'}\n"
     ]
    }
   ],
   "source": [
    "gs2 = gs2.fit(X_1pca, y_1)\n",
    "print(gs2.best_score_)\n",
    "print(gs2.best_params_)"
   ]
  },
  {
   "cell_type": "markdown",
   "metadata": {},
   "source": [
    "## Final models"
   ]
  },
  {
   "cell_type": "code",
   "execution_count": 184,
   "metadata": {},
   "outputs": [],
   "source": [
    "from sklearn.model_selection import train_test_split\n",
    "from sklearn.svm import SVC\n",
    "from sklearn.neural_network import MLPClassifier\n",
    "from sklearn.pipeline import Pipeline\n",
    "\n",
    "res = train_test_split(X_1pca, y_1, test_size = 0.2, random_state = 1)\n",
    "train_data, test_data, train_labels, test_labels = res"
   ]
  },
  {
   "cell_type": "code",
   "execution_count": 185,
   "metadata": {},
   "outputs": [
    {
     "data": {
      "text/plain": [
       "Pipeline(steps=[('scl', StandardScaler()),\n",
       "                ('clf_final',\n",
       "                 MLPClassifier(alpha=0.1, hidden_layer_sizes=(17,),\n",
       "                               max_iter=1000, random_state=1,\n",
       "                               solver='lbfgs'))])"
      ]
     },
     "execution_count": 185,
     "metadata": {},
     "output_type": "execute_result"
    }
   ],
   "source": [
    "mlp_final = Pipeline([('scl', StandardScaler()),\n",
    "                           ('clf_final', MLPClassifier(random_state = 1,\n",
    "                                                       hidden_layer_sizes = (17,),\n",
    "                                                       activation = 'relu',\n",
    "                                                       solver = 'lbfgs',\n",
    "                                                       alpha = 0.1,\n",
    "                                                       max_iter = 1000))])\n",
    "\n",
    "mlp_final.fit(train_data, train_labels)"
   ]
  },
  {
   "cell_type": "code",
   "execution_count": 186,
   "metadata": {},
   "outputs": [
    {
     "data": {
      "text/plain": [
       "Pipeline(steps=[('scl', StandardScaler()),\n",
       "                ('clf1_final', SVC(C=10.0, gamma='auto', random_state=1))])"
      ]
     },
     "execution_count": 186,
     "metadata": {},
     "output_type": "execute_result"
    }
   ],
   "source": [
    "svm_final = Pipeline([('scl', StandardScaler()),\n",
    "                      ('clf1_final', SVC(random_state = 1,\n",
    "                                         C = 10.0,\n",
    "                                         gamma = 'auto',\n",
    "                                         kernel = 'rbf'))])\n",
    "svm_final.fit(train_data, train_labels)"
   ]
  },
  {
   "cell_type": "markdown",
   "metadata": {},
   "source": [
    "## Metrics"
   ]
  },
  {
   "cell_type": "code",
   "execution_count": 187,
   "metadata": {},
   "outputs": [],
   "source": [
    "from sklearn.model_selection import cross_val_score\n",
    "from sklearn.metrics import confusion_matrix\n",
    "from sklearn.metrics import plot_confusion_matrix\n",
    "cvs = cross_val_score"
   ]
  },
  {
   "cell_type": "code",
   "execution_count": 225,
   "metadata": {},
   "outputs": [
    {
     "name": "stdout",
     "output_type": "stream",
     "text": [
      "\n",
      " \u001b[1mMean Accuracy\u001b[0m\n",
      " 0.8416666666666666\n",
      "\n",
      " \u001b[1mMean F1_macro\u001b[0m\n",
      " 0.8414540173902003\n",
      "\n",
      " \u001b[1mMean Accuracy\u001b[0m\n",
      " 0.8435712507536133\n",
      "\n",
      " \u001b[1mMean F1_macro\u001b[0m\n",
      " 0.8383333333333333\n"
     ]
    },
    {
     "data": {
      "image/png": "[encoded data removed]",
      "text/plain": [
       "<Figure size 432x288 with 2 Axes>"
      ]
     },
     "metadata": {
      "needs_background": "light"
     },
     "output_type": "display_data"
    },
    {
     "data": {
      "text/plain": [
       "<Figure size 432x288 with 0 Axes>"
      ]
     },
     "metadata": {},
     "output_type": "display_data"
    }
   ],
   "source": [
    "cvsacc = cvs(mlp_final, X_1pca, y_1, cv = 5, scoring = 'accuracy')\n",
    "cvsf1macro = cvs(mlp_final, X_1pca, y_1, cv = 5, scoring = 'f1_macro')\n",
    "cvsprecision = cvs(mlp_final, X_1pca, y_1, cv = 5, scoring = 'precision')\n",
    "cvsrecall = cvs(mlp_final, X_1pca, y_1, cv = 5, scoring = 'recall')\n",
    "\n",
    "print('\\n \\033[1m' + 'Mean Accuracy' + '\\033[0m\\n', np.mean(cvsacc))\n",
    "print('\\n \\033[1m' + 'Mean F1_macro' + '\\033[0m\\n', np.mean(cvsf1macro))\n",
    "print('\\n \\033[1m' + 'Mean Accuracy' + '\\033[0m\\n', np.mean(cvsprecision))\n",
    "print('\\n \\033[1m' + 'Mean F1_macro' + '\\033[0m\\n', np.mean(cvsrecall))\n",
    "\n",
    "plot_confusion_matrix(mlp_final, X_1pca, y_1, cmap = 'Blues')\n",
    "plt.show()\n",
    "plt.savefig('MlpMax.pdf')"
   ]
  },
  {
   "cell_type": "code",
   "execution_count": 226,
   "metadata": {},
   "outputs": [
    {
     "name": "stdout",
     "output_type": "stream",
     "text": [
      "\n",
      " \u001b[1mMean Accuracy\u001b[0m\n",
      " 0.8316666666666667\n",
      "\n",
      " \u001b[1mMean F1_macro\u001b[0m\n",
      " 0.8314135318943585\n",
      "\n",
      " \u001b[1mMean Precision\u001b[0m\n",
      " 0.8181209352194732\n",
      "\n",
      " \u001b[1mMean Recall\u001b[0m\n",
      " 0.8549999999999999\n"
     ]
    },
    {
     "data": {
      "image/png": "[encoded data removed]",
      "text/plain": [
       "<Figure size 432x288 with 2 Axes>"
      ]
     },
     "metadata": {
      "needs_background": "light"
     },
     "output_type": "display_data"
    },
    {
     "data": {
      "text/plain": [
       "<Figure size 432x288 with 0 Axes>"
      ]
     },
     "metadata": {},
     "output_type": "display_data"
    }
   ],
   "source": [
    "cvsacc_1 = cvs(svm_final, X_1pca, y_1, cv = 5, scoring = 'accuracy')\n",
    "cvsf1macro_1 = cvs(svm_final, X_1pca, y_1, cv = 5, scoring = 'f1_macro')\n",
    "cvsprecision_1 = cvs(svm_final, X_1pca, y_1, cv = 5, scoring = 'precision')\n",
    "cvsrecall_1 = cvs(svm_final, X_1pca, y_1, cv = 5, scoring = 'recall')\n",
    "\n",
    "\n",
    "print('\\n \\033[1m' + 'Mean Accuracy' + '\\033[0m\\n', np.mean(cvsacc_1))\n",
    "print('\\n \\033[1m' + 'Mean F1_macro' + '\\033[0m\\n', np.mean(cvsf1macro_1))\n",
    "print('\\n \\033[1m' + 'Mean Precision' + '\\033[0m\\n', np.mean(cvsprecision_1))\n",
    "print('\\n \\033[1m' + 'Mean Recall' + '\\033[0m\\n', np.mean(cvsrecall_1))\n",
    "\n",
    "\n",
    "plot_confusion_matrix(svm_final, X_1pca, y_1, cmap = 'Blues')\n",
    "plt.show()\n",
    "plt.savefig('SvmMax.pdf')"
   ]
  },
  {
   "cell_type": "markdown",
   "metadata": {},
   "source": [
    "# 2. Característica Principal : Rango"
   ]
  },
  {
   "cell_type": "code",
   "execution_count": 190,
   "metadata": {},
   "outputs": [
    {
     "data": {
      "image/png": "[encoded data removed]",
      "text/plain": [
       "<Figure size 432x288 with 1 Axes>"
      ]
     },
     "metadata": {
      "needs_background": "light"
     },
     "output_type": "display_data"
    }
   ],
   "source": [
    "Label_e = LabelEncoder()\n",
    "dfrange.iloc[:, 64] = Label_e.fit_transform(dfrange.iloc[:,64].values)\n",
    "sns.countplot(data = dfrange, x = dfrange['target'])\n",
    "\n",
    "X_2 = dfrange.drop('target', axis = 1)\n",
    "y_2 = dfrange['target']"
   ]
  },
  {
   "cell_type": "markdown",
   "metadata": {},
   "source": [
    "## PCA "
   ]
  },
  {
   "cell_type": "code",
   "execution_count": 191,
   "metadata": {},
   "outputs": [],
   "source": [
    "scaler.fit(X_2)\n",
    "X_2sc = scaler.transform(X_2)"
   ]
  },
  {
   "cell_type": "code",
   "execution_count": 192,
   "metadata": {},
   "outputs": [
    {
     "data": {
      "image/png": "[encoded data removed]",
      "text/plain": [
       "<Figure size 432x288 with 1 Axes>"
      ]
     },
     "metadata": {
      "needs_background": "light"
     },
     "output_type": "display_data"
    }
   ],
   "source": [
    "cov_mat2 = np.cov(X_2sc.T)\n",
    "eigen_vals2, eigen_vecs2 = np.linalg.eig(cov_mat2)\n",
    "tot2 = sum(eigen_vals2)\n",
    "var_exp2 = [(i/tot2) for i in sorted(eigen_vals2, reverse = True)]\n",
    "cum_var_exp2 = np.cumsum(var_exp2)\n",
    "plt.bar(range(1, 65), var_exp2, alpha = 0.5, align = 'center', label = 'Explained variance', color = 'darkcyan')\n",
    "plt.step(range(1, 65), cum_var_exp2, where = 'mid', label = 'Cumulative explained variance', color = 'darkcyan')\n",
    "plt.axhline(y = 0.98, color = 'black', linestyle = '--', linewidth = 1)\n",
    "plt.ylabel('Explained variance')\n",
    "plt.xlabel('Principal component')\n",
    "plt.title('PCA')\n",
    "plt.legend(loc = 'best')\n",
    "plt.show\n",
    "plt.savefig('PCA.pdf')"
   ]
  },
  {
   "cell_type": "code",
   "execution_count": 193,
   "metadata": {},
   "outputs": [
    {
     "data": {
      "text/plain": [
       "(1200, 35)"
      ]
     },
     "execution_count": 193,
     "metadata": {},
     "output_type": "execute_result"
    }
   ],
   "source": [
    "pca2 = PCA(n_components = 35)\n",
    "pca2.fit(X_2)\n",
    "X_2pca = pca2.transform(X_2)\n",
    "X_2pca.shape"
   ]
  },
  {
   "cell_type": "code",
   "execution_count": 194,
   "metadata": {},
   "outputs": [],
   "source": [
    "res2 = train_test_split(X_2pca, y_2, test_size = 0.2, random_state = 1)\n",
    "train2_data, test2_data, train2_labels, test2_labels = res2"
   ]
  },
  {
   "cell_type": "markdown",
   "metadata": {},
   "source": [
    "## GridSearchCV"
   ]
  },
  {
   "cell_type": "code",
   "execution_count": 61,
   "metadata": {},
   "outputs": [
    {
     "name": "stdout",
     "output_type": "stream",
     "text": [
      "0.9308333333333334\n",
      "{'clf__activation': 'relu', 'clf__alpha': 0.1, 'clf__hidden_layer_sizes': 18, 'clf__max_iter': 1000, 'clf__solver': 'lbfgs'}\n"
     ]
    }
   ],
   "source": [
    "gs_r = gs.fit(X_2pca, y_2)\n",
    "print(gs_r.best_score_)\n",
    "print(gs_r.best_params_)"
   ]
  },
  {
   "cell_type": "code",
   "execution_count": 62,
   "metadata": {},
   "outputs": [
    {
     "name": "stdout",
     "output_type": "stream",
     "text": [
      "0.8216666666666667\n",
      "{'clf1__C': 100.0, 'clf1__kernel': 'linear'}\n"
     ]
    }
   ],
   "source": [
    "gs_r1 = gs1.fit(X_2pca, y_2)\n",
    "print(gs_r1.best_score_)\n",
    "print(gs_r1.best_params_)"
   ]
  },
  {
   "cell_type": "code",
   "execution_count": 63,
   "metadata": {},
   "outputs": [
    {
     "name": "stdout",
     "output_type": "stream",
     "text": [
      "0.9233333333333332\n",
      "{'clf1__C': 10.0, 'clf1__gamma': 'auto', 'clf1__kernel': 'rbf'}\n"
     ]
    }
   ],
   "source": [
    "gs_r2 = gs2.fit(X_2pca, y_2)\n",
    "print(gs_r2.best_score_)\n",
    "print(gs_r2.best_params_)"
   ]
  },
  {
   "cell_type": "markdown",
   "metadata": {},
   "source": [
    "## Final Models"
   ]
  },
  {
   "cell_type": "code",
   "execution_count": 195,
   "metadata": {},
   "outputs": [
    {
     "data": {
      "text/plain": [
       "Pipeline(steps=[('scl', StandardScaler()),\n",
       "                ('clf_final',\n",
       "                 MLPClassifier(alpha=0.1, hidden_layer_sizes=(18,),\n",
       "                               max_iter=1000, random_state=1,\n",
       "                               solver='lbfgs'))])"
      ]
     },
     "execution_count": 195,
     "metadata": {},
     "output_type": "execute_result"
    }
   ],
   "source": [
    "mlp_final2 = Pipeline([('scl', StandardScaler()),\n",
    "                           ('clf_final', MLPClassifier(random_state = 1,\n",
    "                                                       hidden_layer_sizes = (18,),\n",
    "                                                       activation = 'relu',\n",
    "                                                       solver = 'lbfgs',\n",
    "                                                       alpha = 0.1,\n",
    "                                                       max_iter = 1000))])\n",
    "mlp_final2.fit(train2_data, train2_labels)"
   ]
  },
  {
   "cell_type": "code",
   "execution_count": 196,
   "metadata": {},
   "outputs": [
    {
     "data": {
      "text/plain": [
       "Pipeline(steps=[('scl', StandardScaler()),\n",
       "                ('clf1_final', SVC(C=10.0, gamma='auto', random_state=1))])"
      ]
     },
     "execution_count": 196,
     "metadata": {},
     "output_type": "execute_result"
    }
   ],
   "source": [
    "svm_final2 = Pipeline([('scl', StandardScaler()),\n",
    "                      ('clf1_final', SVC(random_state = 1,\n",
    "                                         C = 10.0,\n",
    "                                         gamma = 'auto',\n",
    "                                         kernel = 'rbf'))])\n",
    "svm_final2.fit(train2_data, train2_labels)"
   ]
  },
  {
   "cell_type": "markdown",
   "metadata": {},
   "source": [
    "## Metrics"
   ]
  },
  {
   "cell_type": "code",
   "execution_count": 227,
   "metadata": {},
   "outputs": [
    {
     "name": "stdout",
     "output_type": "stream",
     "text": [
      "\n",
      " \u001b[1mMean Accuracy\u001b[0m\n",
      " 0.9274999999999999\n",
      "\n",
      " \u001b[1mMean F1_macro\u001b[0m\n",
      " 0.927490432539068\n",
      "\n",
      " \u001b[1mMean Precision\u001b[0m\n",
      " 0.923785557876467\n",
      "\n",
      " \u001b[1mMean Recall\u001b[0m\n",
      " 0.9316666666666666\n"
     ]
    },
    {
     "data": {
      "image/png": "[encoded data removed]",
      "text/plain": [
       "<Figure size 432x288 with 2 Axes>"
      ]
     },
     "metadata": {
      "needs_background": "light"
     },
     "output_type": "display_data"
    },
    {
     "data": {
      "text/plain": [
       "<Figure size 432x288 with 0 Axes>"
      ]
     },
     "metadata": {},
     "output_type": "display_data"
    }
   ],
   "source": [
    "cvsacc2 = cvs(mlp_final2, X_2pca, y_2, cv = 5, scoring = 'accuracy')\n",
    "cvsf1macro2 = cvs(mlp_final2, X_2pca, y_2, cv = 5, scoring = 'f1_macro')\n",
    "cvsprecision2 = cvs(mlp_final2, X_2pca, y_2, cv = 5, scoring = 'precision')\n",
    "cvsrecall2 = cvs(mlp_final2, X_2pca, y_2, cv = 5, scoring = 'recall')\n",
    "\n",
    "print('\\n \\033[1m' + 'Mean Accuracy' + '\\033[0m\\n', np.mean(cvsacc2))\n",
    "print('\\n \\033[1m' + 'Mean F1_macro' + '\\033[0m\\n', np.mean(cvsf1macro2))\n",
    "print('\\n \\033[1m' + 'Mean Precision' + '\\033[0m\\n', np.mean(cvsprecision2))\n",
    "print('\\n \\033[1m' + 'Mean Recall' + '\\033[0m\\n', np.mean(cvsrecall2))\n",
    "\n",
    "plot_confusion_matrix(mlp_final2, X_2pca, y_2, cmap = 'Blues')\n",
    "plt.show()\n",
    "plt.savefig('Mlprange.pdf')"
   ]
  },
  {
   "cell_type": "code",
   "execution_count": 228,
   "metadata": {},
   "outputs": [
    {
     "name": "stdout",
     "output_type": "stream",
     "text": [
      "\n",
      " \u001b[1mMean Accuracy\u001b[0m\n",
      " 0.9225\n",
      "\n",
      " \u001b[1mMean F1_macro\u001b[0m\n",
      " 0.9224062568603133\n",
      "\n",
      " \u001b[1mMean Precision\u001b[0m\n",
      " 0.9134806103232839\n",
      "\n",
      " \u001b[1mMean Recall\u001b[0m\n",
      " 0.9350000000000002\n"
     ]
    },
    {
     "data": {
      "image/png": "[encoded data removed]",
      "text/plain": [
       "<Figure size 432x288 with 2 Axes>"
      ]
     },
     "metadata": {
      "needs_background": "light"
     },
     "output_type": "display_data"
    },
    {
     "data": {
      "text/plain": [
       "<Figure size 432x288 with 0 Axes>"
      ]
     },
     "metadata": {},
     "output_type": "display_data"
    }
   ],
   "source": [
    "cvsacc2_1 = cvs(svm_final2, X_2pca, y_2, cv = 5, scoring = 'accuracy')\n",
    "cvsf1macro2_1 = cvs(svm_final2, X_2pca, y_2, cv = 5, scoring = 'f1_macro')\n",
    "cvsprecision2_1 = cvs(svm_final2, X_2pca, y_2, cv = 5, scoring = 'precision')\n",
    "cvsrecall2_1 = cvs(svm_final2, X_2pca, y_2, cv = 5, scoring = 'recall')\n",
    "\n",
    "\n",
    "\n",
    "print('\\n \\033[1m' + 'Mean Accuracy' + '\\033[0m\\n', np.mean(cvsacc2_1))\n",
    "print('\\n \\033[1m' + 'Mean F1_macro' + '\\033[0m\\n', np.mean(cvsf1macro2_1))\n",
    "print('\\n \\033[1m' + 'Mean Precision' + '\\033[0m\\n', np.mean(cvsprecision2_1))\n",
    "print('\\n \\033[1m' + 'Mean Recall' + '\\033[0m\\n', np.mean(cvsrecall2_1))\n",
    "\n",
    "plot_confusion_matrix(svm_final2, X_2pca, y_2, cmap = 'Blues')\n",
    "plt.show()\n",
    "plt.savefig('Svmrange.pdf')"
   ]
  },
  {
   "cell_type": "markdown",
   "metadata": {},
   "source": [
    "# 3. Característica Principal : Mínimo"
   ]
  },
  {
   "cell_type": "code",
   "execution_count": 199,
   "metadata": {},
   "outputs": [
    {
     "data": {
      "image/png": "[encoded data removed]",
      "text/plain": [
       "<Figure size 432x288 with 1 Axes>"
      ]
     },
     "metadata": {
      "needs_background": "light"
     },
     "output_type": "display_data"
    }
   ],
   "source": [
    "Label_e = LabelEncoder()\n",
    "dfmin.iloc[:, 64] = Label_e.fit_transform(dfmin.iloc[:,64].values)\n",
    "sns.countplot(data = dfmin, x = dfmin['target'])\n",
    "\n",
    "X_3 = dfmin.drop('target', axis = 1)\n",
    "y_3 = dfmin['target']"
   ]
  },
  {
   "cell_type": "markdown",
   "metadata": {},
   "source": [
    "## PCA"
   ]
  },
  {
   "cell_type": "code",
   "execution_count": 200,
   "metadata": {},
   "outputs": [],
   "source": [
    "scaler.fit(X_3)\n",
    "X_3sc = scaler.transform(X_3)"
   ]
  },
  {
   "cell_type": "code",
   "execution_count": 201,
   "metadata": {},
   "outputs": [
    {
     "data": {
      "text/plain": [
       "<function matplotlib.pyplot.show(close=None, block=None)>"
      ]
     },
     "execution_count": 201,
     "metadata": {},
     "output_type": "execute_result"
    },
    {
     "data": {
      "image/png": "[encoded data removed]",
      "text/plain": [
       "<Figure size 432x288 with 1 Axes>"
      ]
     },
     "metadata": {
      "needs_background": "light"
     },
     "output_type": "display_data"
    }
   ],
   "source": [
    "cov_mat3 = np.cov(X_3sc.T)\n",
    "eigen_vals3, eigen_vecs3 = np.linalg.eig(cov_mat3)\n",
    "tot3 = sum(eigen_vals3)\n",
    "var_exp3 = [(i/tot3) for i in sorted(eigen_vals3, reverse = True)]\n",
    "cum_var_exp3 = np.cumsum(var_exp3)\n",
    "plt.bar(range(1, 65), var_exp3, alpha = 0.5, align = 'center', label = 'explained variance')\n",
    "plt.step(range(1, 65), cum_var_exp3, where = 'mid', label = 'cumulative explained variance')\n",
    "plt.axhline(y = 0.98, color = 'r', linestyle = '--', linewidth = 1)\n",
    "plt.ylabel('explained variance')\n",
    "plt.xlabel('Principal component')\n",
    "plt.legend(loc = 'best')\n",
    "plt.show"
   ]
  },
  {
   "cell_type": "code",
   "execution_count": 202,
   "metadata": {},
   "outputs": [
    {
     "data": {
      "text/plain": [
       "(1200, 35)"
      ]
     },
     "execution_count": 202,
     "metadata": {},
     "output_type": "execute_result"
    }
   ],
   "source": [
    "pca3 = PCA(n_components = 35)\n",
    "pca3.fit(X_3)\n",
    "X_3pca = pca3.transform(X_3)\n",
    "X_3pca.shape"
   ]
  },
  {
   "cell_type": "code",
   "execution_count": 203,
   "metadata": {},
   "outputs": [],
   "source": [
    "res3 = train_test_split(X_3pca, y_3, test_size = 0.2, random_state = 1)\n",
    "train3_data, test3_data, train3_labels, test3_labels = res3"
   ]
  },
  {
   "cell_type": "markdown",
   "metadata": {},
   "source": [
    "## GridSearchCV"
   ]
  },
  {
   "cell_type": "code",
   "execution_count": 92,
   "metadata": {},
   "outputs": [
    {
     "name": "stdout",
     "output_type": "stream",
     "text": [
      "0.8391666666666666\n",
      "{'clf__activation': 'relu', 'clf__alpha': 0.001, 'clf__hidden_layer_sizes': 17, 'clf__max_iter': 1000, 'clf__solver': 'adam'}\n"
     ]
    }
   ],
   "source": [
    "gs_min = gs.fit(X_3pca, y_3)\n",
    "print(gs_min.best_score_)\n",
    "print(gs_min.best_params_)"
   ]
  },
  {
   "cell_type": "code",
   "execution_count": 93,
   "metadata": {},
   "outputs": [
    {
     "name": "stdout",
     "output_type": "stream",
     "text": [
      "0.755\n",
      "{'clf1__C': 0.1, 'clf1__kernel': 'linear'}\n"
     ]
    }
   ],
   "source": [
    "gs_min1 = gs1.fit(X_3pca, y_3)\n",
    "print(gs_min1.best_score_)\n",
    "print(gs_min1.best_params_)"
   ]
  },
  {
   "cell_type": "code",
   "execution_count": 94,
   "metadata": {},
   "outputs": [
    {
     "name": "stdout",
     "output_type": "stream",
     "text": [
      "0.8416666666666666\n",
      "{'clf1__C': 10.0, 'clf1__gamma': 'auto', 'clf1__kernel': 'rbf'}\n"
     ]
    }
   ],
   "source": [
    "gs_min2 = gs2.fit(X_3pca, y_3)\n",
    "print(gs_min2.best_score_)\n",
    "print(gs_min2.best_params_)"
   ]
  },
  {
   "cell_type": "markdown",
   "metadata": {},
   "source": [
    "## Final Models"
   ]
  },
  {
   "cell_type": "code",
   "execution_count": 204,
   "metadata": {},
   "outputs": [
    {
     "data": {
      "text/plain": [
       "Pipeline(steps=[('scl', StandardScaler()),\n",
       "                ('clf_final',\n",
       "                 MLPClassifier(alpha=0.001, hidden_layer_sizes=(17,),\n",
       "                               max_iter=1000, random_state=1))])"
      ]
     },
     "execution_count": 204,
     "metadata": {},
     "output_type": "execute_result"
    }
   ],
   "source": [
    "mlp_final3 = Pipeline([('scl', StandardScaler()),\n",
    "                           ('clf_final', MLPClassifier(random_state = 1,\n",
    "                                                       hidden_layer_sizes = (17,),\n",
    "                                                       activation = 'relu',\n",
    "                                                       solver = 'adam',\n",
    "                                                       alpha = 0.001,\n",
    "                                                       max_iter = 1000))])\n",
    "mlp_final3.fit(train3_data, train3_labels)"
   ]
  },
  {
   "cell_type": "code",
   "execution_count": 205,
   "metadata": {},
   "outputs": [
    {
     "data": {
      "text/plain": [
       "Pipeline(steps=[('scl', StandardScaler()),\n",
       "                ('clf1_final', SVC(C=10.0, gamma='auto', random_state=1))])"
      ]
     },
     "execution_count": 205,
     "metadata": {},
     "output_type": "execute_result"
    }
   ],
   "source": [
    "svm_final3 = Pipeline([('scl', StandardScaler()),\n",
    "                      ('clf1_final', SVC(random_state = 1,\n",
    "                                         C = 10.0,\n",
    "                                         gamma = 'auto',\n",
    "                                         kernel = 'rbf'))])\n",
    "svm_final3.fit(train3_data, train3_labels)"
   ]
  },
  {
   "cell_type": "markdown",
   "metadata": {},
   "source": [
    "## Metrics"
   ]
  },
  {
   "cell_type": "code",
   "execution_count": 232,
   "metadata": {},
   "outputs": [
    {
     "name": "stdout",
     "output_type": "stream",
     "text": [
      "\n",
      " \u001b[1mMean Accuracy\u001b[0m\n",
      " 0.8325000000000001\n",
      "\n",
      " \u001b[1mMean F1_macro\u001b[0m\n",
      " 0.8324195719890204\n",
      "\n",
      " \u001b[1mMean Precision\u001b[0m\n",
      " 0.8334165878675123\n",
      "\n",
      " \u001b[1mMean Recall\u001b[0m\n",
      " 0.8316666666666667\n"
     ]
    },
    {
     "data": {
      "image/png": "[encoded data removed]",
      "text/plain": [
       "<Figure size 432x288 with 2 Axes>"
      ]
     },
     "metadata": {
      "needs_background": "light"
     },
     "output_type": "display_data"
    },
    {
     "data": {
      "text/plain": [
       "<Figure size 432x288 with 0 Axes>"
      ]
     },
     "metadata": {},
     "output_type": "display_data"
    }
   ],
   "source": [
    "cvsacc3 = cvs(mlp_final3, X_3pca, y_3, cv = 5, scoring = 'accuracy')\n",
    "cvsf1macro3 = cvs(mlp_final3, X_3pca, y_3, cv = 5, scoring = 'f1_macro')\n",
    "cvsprecision3 = cvs(mlp_final3, X_3pca, y_3, cv = 5, scoring = 'precision')\n",
    "cvsrecall3 = cvs(mlp_final3, X_3pca, y_3, cv = 5, scoring = 'recall')\n",
    "\n",
    "print('\\n \\033[1m' + 'Mean Accuracy' + '\\033[0m\\n', np.mean(cvsacc3))\n",
    "print('\\n \\033[1m' + 'Mean F1_macro' + '\\033[0m\\n', np.mean(cvsf1macro3))\n",
    "print('\\n \\033[1m' + 'Mean Precision' + '\\033[0m\\n', np.mean(cvsprecision3))\n",
    "print('\\n \\033[1m' + 'Mean Recall' + '\\033[0m\\n', np.mean(cvsrecall3))\n",
    "\n",
    "plot_confusion_matrix(mlp_final3, X_3pca, y_3, cmap = 'Blues')\n",
    "plt.show()\n",
    "plt.savefig('Mlpmin.pdf')"
   ]
  },
  {
   "cell_type": "code",
   "execution_count": 234,
   "metadata": {},
   "outputs": [
    {
     "name": "stdout",
     "output_type": "stream",
     "text": [
      "\n",
      " \u001b[1mMean Accuracy\u001b[0m\n",
      " 0.8391666666666666\n",
      "\n",
      " \u001b[1mMean F1_macro\u001b[0m\n",
      " 0.8389266475329815\n",
      "\n",
      " \u001b[1mMean Precision\u001b[0m\n",
      " 0.8306899125313448\n",
      "\n",
      " \u001b[1mMean Recall\u001b[0m\n",
      " 0.8549999999999999\n"
     ]
    },
    {
     "data": {
      "image/png": "[encoded data removed]",
      "text/plain": [
       "<Figure size 432x288 with 2 Axes>"
      ]
     },
     "metadata": {
      "needs_background": "light"
     },
     "output_type": "display_data"
    },
    {
     "data": {
      "text/plain": [
       "<Figure size 432x288 with 0 Axes>"
      ]
     },
     "metadata": {},
     "output_type": "display_data"
    }
   ],
   "source": [
    "cvsacc3_1 = cvs(svm_final3, X_3pca, y_3, cv = 5, scoring = 'accuracy')\n",
    "cvsf1macro3_1 = cvs(svm_final3, X_3pca, y_3, cv = 5, scoring = 'f1_macro')\n",
    "cvsprecision3_1 = cvs(svm_final3, X_3pca, y_3, cv = 5, scoring = 'precision')\n",
    "cvsrecall3_1 = cvs(svm_final3, X_3pca, y_3, cv = 5, scoring = 'recall')\n",
    "\n",
    "\n",
    "print('\\n \\033[1m' + 'Mean Accuracy' + '\\033[0m\\n', np.mean(cvsacc3_1))\n",
    "print('\\n \\033[1m' + 'Mean F1_macro' + '\\033[0m\\n', np.mean(cvsf1macro3_1))\n",
    "print('\\n \\033[1m' + 'Mean Precision' + '\\033[0m\\n', np.mean(cvsprecision3_1))\n",
    "print('\\n \\033[1m' + 'Mean Recall' + '\\033[0m\\n', np.mean(cvsrecall3_1))\n",
    "\n",
    "plot_confusion_matrix(svm_final3, X_3pca, y_3, cmap = 'Blues')\n",
    "plt.show()\n",
    "plt.savefig('Svmmin')"
   ]
  },
  {
   "cell_type": "markdown",
   "metadata": {},
   "source": [
    "## 4. Característica Principal : Desviación Estandar"
   ]
  },
  {
   "cell_type": "code",
   "execution_count": 208,
   "metadata": {},
   "outputs": [
    {
     "data": {
      "image/png": "[encoded data removed]",
      "text/plain": [
       "<Figure size 432x288 with 1 Axes>"
      ]
     },
     "metadata": {
      "needs_background": "light"
     },
     "output_type": "display_data"
    }
   ],
   "source": [
    "Label_e = LabelEncoder()\n",
    "dfstd.iloc[:, 64] = Label_e.fit_transform(dfstd.iloc[:,64].values)\n",
    "sns.countplot(data = dfstd, x = dfstd['target'])\n",
    "\n",
    "X_4 = dfstd.drop('target', axis = 1)\n",
    "y_4 = dfstd['target']"
   ]
  },
  {
   "cell_type": "markdown",
   "metadata": {},
   "source": [
    "## PCA"
   ]
  },
  {
   "cell_type": "code",
   "execution_count": 209,
   "metadata": {},
   "outputs": [],
   "source": [
    "scaler.fit(X_4)\n",
    "X_4sc = scaler.transform(X_4)"
   ]
  },
  {
   "cell_type": "code",
   "execution_count": 210,
   "metadata": {},
   "outputs": [
    {
     "data": {
      "text/plain": [
       "<function matplotlib.pyplot.show(close=None, block=None)>"
      ]
     },
     "execution_count": 210,
     "metadata": {},
     "output_type": "execute_result"
    },
    {
     "data": {
      "image/png": "[encoded data removed]",
      "text/plain": [
       "<Figure size 432x288 with 1 Axes>"
      ]
     },
     "metadata": {
      "needs_background": "light"
     },
     "output_type": "display_data"
    }
   ],
   "source": [
    "cov_mat4 = np.cov(X_4sc.T)\n",
    "eigen_vals4, eigen_vecs4 = np.linalg.eig(cov_mat4)\n",
    "tot4 = sum(eigen_vals4)\n",
    "var_exp4 = [(i/tot4) for i in sorted(eigen_vals4, reverse = True)]\n",
    "cum_var_exp4 = np.cumsum(var_exp4)\n",
    "plt.bar(range(1, 65), var_exp4, alpha = 0.5, align = 'center', label = 'explained variance')\n",
    "plt.step(range(1, 65), cum_var_exp4, where = 'mid', label = 'cumulative explained variance')\n",
    "plt.axhline(y = 0.98, color = 'r', linestyle = '--', linewidth = 1)\n",
    "plt.ylabel('explained variance')\n",
    "plt.xlabel('Principal component')\n",
    "plt.legend(loc = 'best')\n",
    "plt.show"
   ]
  },
  {
   "cell_type": "code",
   "execution_count": 211,
   "metadata": {},
   "outputs": [
    {
     "data": {
      "text/plain": [
       "(1200, 35)"
      ]
     },
     "execution_count": 211,
     "metadata": {},
     "output_type": "execute_result"
    }
   ],
   "source": [
    "pca4 = PCA(n_components = 35)\n",
    "pca4.fit(X_4)\n",
    "X_4pca = pca3.transform(X_4)\n",
    "X_4pca.shape"
   ]
  },
  {
   "cell_type": "code",
   "execution_count": 212,
   "metadata": {},
   "outputs": [],
   "source": [
    "res4 = train_test_split(X_4pca, y_4, test_size = 0.2, random_state = 1)\n",
    "train4_data, test4_data, train4_labels, test4_labels = res4"
   ]
  },
  {
   "cell_type": "markdown",
   "metadata": {},
   "source": [
    "## GridSearchCV"
   ]
  },
  {
   "cell_type": "code",
   "execution_count": 105,
   "metadata": {},
   "outputs": [
    {
     "name": "stdout",
     "output_type": "stream",
     "text": [
      "0.9108333333333334\n",
      "{'clf__activation': 'relu', 'clf__alpha': 0.1, 'clf__hidden_layer_sizes': 18, 'clf__max_iter': 1000, 'clf__solver': 'lbfgs'}\n"
     ]
    }
   ],
   "source": [
    "gs_std = gs.fit(X_4pca, y_4)\n",
    "print(gs_std.best_score_)\n",
    "print(gs_std.best_params_)"
   ]
  },
  {
   "cell_type": "code",
   "execution_count": 106,
   "metadata": {},
   "outputs": [
    {
     "name": "stdout",
     "output_type": "stream",
     "text": [
      "0.7908333333333333\n",
      "{'clf1__C': 100.0, 'clf1__kernel': 'linear'}\n"
     ]
    }
   ],
   "source": [
    "gs_std1 = gs1.fit(X_4pca, y_4)\n",
    "print(gs_std1.best_score_)\n",
    "print(gs_std1.best_params_)"
   ]
  },
  {
   "cell_type": "code",
   "execution_count": 107,
   "metadata": {},
   "outputs": [
    {
     "name": "stdout",
     "output_type": "stream",
     "text": [
      "0.925\n",
      "{'clf1__C': 100.0, 'clf1__gamma': 'auto', 'clf1__kernel': 'rbf'}\n"
     ]
    }
   ],
   "source": [
    "gs_std2 = gs2.fit(X_4pca, y_4)\n",
    "print(gs_std2.best_score_)\n",
    "print(gs_std2.best_params_)"
   ]
  },
  {
   "cell_type": "markdown",
   "metadata": {},
   "source": [
    "## Final Models"
   ]
  },
  {
   "cell_type": "code",
   "execution_count": 213,
   "metadata": {},
   "outputs": [
    {
     "data": {
      "text/plain": [
       "Pipeline(steps=[('scl', StandardScaler()),\n",
       "                ('clf_final',\n",
       "                 MLPClassifier(alpha=0.1, hidden_layer_sizes=(18,),\n",
       "                               max_iter=1000, random_state=1,\n",
       "                               solver='lbfgs'))])"
      ]
     },
     "execution_count": 213,
     "metadata": {},
     "output_type": "execute_result"
    }
   ],
   "source": [
    "mlp_final4 = Pipeline([('scl', StandardScaler()),\n",
    "                           ('clf_final', MLPClassifier(random_state = 1,\n",
    "                                                       hidden_layer_sizes = (18,),\n",
    "                                                       activation = 'relu',\n",
    "                                                       solver = 'lbfgs',\n",
    "                                                       alpha = 0.1,\n",
    "                                                       max_iter = 1000))])\n",
    "mlp_final4.fit(train4_data, train4_labels)"
   ]
  },
  {
   "cell_type": "code",
   "execution_count": 214,
   "metadata": {},
   "outputs": [
    {
     "data": {
      "text/plain": [
       "Pipeline(steps=[('scl', StandardScaler()),\n",
       "                ('clf1_final', SVC(C=100.0, gamma='auto', random_state=1))])"
      ]
     },
     "execution_count": 214,
     "metadata": {},
     "output_type": "execute_result"
    }
   ],
   "source": [
    "svm_final4 = Pipeline([('scl', StandardScaler()),\n",
    "                      ('clf1_final', SVC(random_state = 1,\n",
    "                                         C = 100.0,\n",
    "                                         gamma = 'auto',\n",
    "                                         kernel = 'rbf'))])\n",
    "svm_final4.fit(train4_data, train4_labels)"
   ]
  },
  {
   "cell_type": "markdown",
   "metadata": {},
   "source": [
    "## Metrics"
   ]
  },
  {
   "cell_type": "code",
   "execution_count": 231,
   "metadata": {},
   "outputs": [
    {
     "name": "stdout",
     "output_type": "stream",
     "text": [
      "\n",
      " \u001b[1mMean Accuracy\u001b[0m\n",
      " 0.9125\n",
      "\n",
      " \u001b[1mMean F1_macro\u001b[0m\n",
      " 0.9123013070476154\n",
      "\n",
      " \u001b[1mMean Precision\u001b[0m\n",
      " 0.911463051311604\n",
      "\n",
      " \u001b[1mMean Recall\u001b[0m\n",
      " 0.9183333333333333\n"
     ]
    },
    {
     "data": {
      "image/png": "[encoded data removed]",
      "text/plain": [
       "<Figure size 432x288 with 2 Axes>"
      ]
     },
     "metadata": {
      "needs_background": "light"
     },
     "output_type": "display_data"
    },
    {
     "data": {
      "text/plain": [
       "<Figure size 432x288 with 0 Axes>"
      ]
     },
     "metadata": {},
     "output_type": "display_data"
    }
   ],
   "source": [
    "cvsacc4 = cvs(mlp_final4, X_4pca, y_4, cv = 5, scoring = 'accuracy')\n",
    "cvsf1macro4 = cvs(mlp_final4, X_4pca, y_4, cv = 5, scoring = 'f1_macro')\n",
    "cvsprecision4 = cvs(mlp_final4, X_4pca, y_4, cv = 5, scoring = 'precision')\n",
    "cvsrecall4 = cvs(mlp_final4, X_4pca, y_4, cv = 5, scoring = 'recall')\n",
    "\n",
    "print('\\n \\033[1m' + 'Mean Accuracy' + '\\033[0m\\n', np.mean(cvsacc4))\n",
    "print('\\n \\033[1m' + 'Mean F1_macro' + '\\033[0m\\n', np.mean(cvsf1macro4))\n",
    "print('\\n \\033[1m' + 'Mean Precision' + '\\033[0m\\n', np.mean(cvsprecision4))\n",
    "print('\\n \\033[1m' + 'Mean Recall' + '\\033[0m\\n', np.mean(cvsrecall4))\n",
    "\n",
    "\n",
    "plot_confusion_matrix(mlp_final4, X_4pca, y_4, cmap = 'Blues')\n",
    "plt.show()\n",
    "plt.savefig('Mlpstd.pdf')"
   ]
  },
  {
   "cell_type": "code",
   "execution_count": 230,
   "metadata": {},
   "outputs": [
    {
     "name": "stdout",
     "output_type": "stream",
     "text": [
      "\n",
      " \u001b[1mMean Accuracy\u001b[0m\n",
      " 0.9233333333333335\n",
      "\n",
      " \u001b[1mMean F1_macro\u001b[0m\n",
      " 0.9232100338011403\n",
      "\n",
      " \u001b[1mMean Precision\u001b[0m\n",
      " 0.922289483238889\n",
      "\n",
      " \u001b[1mMean Recall\u001b[0m\n",
      " 0.9283333333333333\n"
     ]
    },
    {
     "data": {
      "image/png": "[encoded data removed]",
      "text/plain": [
       "<Figure size 432x288 with 2 Axes>"
      ]
     },
     "metadata": {
      "needs_background": "light"
     },
     "output_type": "display_data"
    },
    {
     "data": {
      "text/plain": [
       "<Figure size 432x288 with 0 Axes>"
      ]
     },
     "metadata": {},
     "output_type": "display_data"
    }
   ],
   "source": [
    "cvsacc4_1 = cvs(svm_final4, X_4pca, y_4, cv = 5, scoring = 'accuracy')\n",
    "cvsf1macro4_1 = cvs(svm_final4, X_4pca, y_4, cv = 5, scoring = 'f1_macro')\n",
    "cvsprecision4_1 = cvs(svm_final4, X_4pca, y_4, cv = 5, scoring = 'precision')\n",
    "cvsrecall4_1 = cvs(svm_final4, X_4pca, y_4, cv = 5, scoring = 'recall')\n",
    "\n",
    "print('\\n \\033[1m' + 'Mean Accuracy' + '\\033[0m\\n', np.mean(cvsacc4_1))\n",
    "print('\\n \\033[1m' + 'Mean F1_macro' + '\\033[0m\\n', np.mean(cvsf1macro4_1))\n",
    "print('\\n \\033[1m' + 'Mean Precision' + '\\033[0m\\n', np.mean(cvsprecision4_1))\n",
    "print('\\n \\033[1m' + 'Mean Recall' + '\\033[0m\\n', np.mean(cvsrecall4_1))\n",
    "\n",
    "\n",
    "plot_confusion_matrix(svm_final4, X_4pca, y_4, cmap = 'Blues')\n",
    "plt.show()\n",
    "plt.savefig('Svmstd.pdf')"
   ]
  },
  {
   "cell_type": "code",
   "execution_count": null,
   "metadata": {},
   "outputs": [],
   "source": []
  },
  {
   "cell_type": "code",
   "execution_count": 55,
   "metadata": {},
   "outputs": [
    {
     "name": "stdout",
     "output_type": "stream",
     "text": [
      "44009.879277 44009.879277\n"
     ]
    },
    {
     "data": {
      "image/png": "[encoded data removed]",
      "text/plain": [
       "<Figure size 432x288 with 2 Axes>"
      ]
     },
     "metadata": {
      "needs_background": "light"
     },
     "output_type": "display_data"
    }
   ],
   "source": [
    "from scipy.fft import fft,fftshift\n",
    "\n",
    "signal = df['co2a0000364 (32)']\n",
    "chan = 1\n",
    "signalchan1= signal[(chan-1)*256:(256*chan)]\n",
    "N = len(signalchan1)\n",
    "#n = np.arange(1, 15, 1)\n",
    "#X1 = (1.3**n)+5\n",
    "#N = len(X1)\n",
    "t = np.linspace(0, 1, N)\n",
    "X = np.fft.fft(signalchan1)\n",
    "X_mag = np.abs(X)\n",
    "\n",
    "fig, [ax1, ax2] = plt.subplots(nrows = 2, ncols = 1)\n",
    "ax1.plot(t, signalchan1, '-')\n",
    "ax2.plot(t, X_mag, '-')\n",
    "plt.show\n",
    "f = np.square(X_mag)\n",
    "d = np.square(np.abs(signalchan1))\n",
    "print((1/N)*np.sum(f), np.sum(d))"
   ]
  },
  {
   "cell_type": "code",
   "execution_count": 59,
   "metadata": {
    "scrolled": false
   },
   "outputs": [
    {
     "name": "stdout",
     "output_type": "stream",
     "text": [
      "16 16 32 64 128\n"
     ]
    }
   ],
   "source": [
    "signal = df['co2a0000364 (1)']\n",
    "chan = 40\n",
    "signalchan1= signal[(chan-1)*256:(256*chan)]\n",
    "CD1, CD2, CD3, CD4, CD5 = pywt.wavedec(signalchan1, 'haar', level = 4, mode = 'periodic')\n",
    "print(len(CD1),len(CD2),len(CD3),len(CD4),len(CD5))"
   ]
  },
  {
   "cell_type": "code",
   "execution_count": 61,
   "metadata": {},
   "outputs": [],
   "source": [
    "?pywt.wavedec\n",
    "#print(signal)"
   ]
  },
  {
   "cell_type": "code",
   "execution_count": 62,
   "metadata": {},
   "outputs": [],
   "source": [
    "\n",
    "\n",
    "cA, cD = pywt.dwt(signalchan1, 'haar')"
   ]
  },
  {
   "cell_type": "code",
   "execution_count": 70,
   "metadata": {},
   "outputs": [
    {
     "data": {
      "image/png": "[encoded data removed]",
      "text/plain": [
       "<Figure size 1080x576 with 1 Axes>"
      ]
     },
     "metadata": {
      "needs_background": "light"
     },
     "output_type": "display_data"
    }
   ],
   "source": [
    "plt.figure(figsize=(15,8))\n",
    "t = np.linspace(0, 1, 256)\n",
    "plt.plot(t, signalchan1, color = 'black')\n",
    "plt.xlim(0, 1)\n",
    "plt.xlabel('time [t]', size = 15)\n",
    "plt.ylabel('amplitude [mV]', size = 15)\n",
    "plt.savefig('signal.pdf')"
   ]
  },
  {
   "cell_type": "code",
   "execution_count": null,
   "metadata": {},
   "outputs": [],
   "source": [
    "wp = pywt.WaveletPacket(data = signal, wavelet = 'db1', mode = 'symmetric')\n",
    "wp['ad'].maxlevel"
   ]
  },
  {
   "cell_type": "code",
   "execution_count": null,
   "metadata": {},
   "outputs": [],
   "source": [
    "cAchan1, cDchan1 = pywt.dwt(signalchan1, 'haar')\n",
    "t = np.linspace(0, 1, 256)\n",
    "twv = np.linspace(0 ,1, 128)\n",
    "\n",
    "plt.figure(figsize=(15,8))\n",
    "plt.plot(t, signalchan1, label = 'original')\n",
    "plt.plot(twv, cAchan1, label= 'cA coef')\n",
    "plt.plot(twv, cDchan1, label= 'cD coef')\n",
    "plt.legend()"
   ]
  }
 ],
 "metadata": {
  "kernelspec": {
   "display_name": "Python 3",
   "language": "python",
   "name": "python3"
  },
  "language_info": {
   "codemirror_mode": {
    "name": "ipython",
    "version": 3
   },
   "file_extension": ".py",
   "mimetype": "text/x-python",
   "name": "python",
   "nbconvert_exporter": "python",
   "pygments_lexer": "ipython3",
   "version": "3.8.5"
  }
 },
 "nbformat": 4,
 "nbformat_minor": 4
}
